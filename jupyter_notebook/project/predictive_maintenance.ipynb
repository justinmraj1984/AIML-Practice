{
 "cells": [
  {
   "cell_type": "code",
   "execution_count": 1,
   "metadata": {
    "tags": []
   },
   "outputs": [],
   "source": [
    "import numpy as np\n",
    "import pandas as pd\n",
    "import seaborn as sns\n",
    "import matplotlib.pyplot as plt\n",
    "%matplotlib inline"
   ]
  },
  {
   "cell_type": "markdown",
   "metadata": {
    "tags": []
   },
   "source": [
    "# Exploratory Data Analysis (EDA)"
   ]
  },
  {
   "cell_type": "markdown",
   "metadata": {},
   "source": [
    "## Import dataset from CSV file and Explore the Dataset\n",
    "> 1. Import a dataset as CSV file\n",
    "> 2. Identify the Key Data attributes and Target column\n",
    "> 3. Replace missing values in the Data attributes with 0\n",
    "> 4. Replace missing values in other columns with NaN\n",
    "> 5. Charts used in EDA:\n",
    ">    - Heatmap\n",
    ">    - Histogram\n",
    ">    - Box chart"
   ]
  },
  {
   "cell_type": "code",
   "execution_count": 2,
   "metadata": {},
   "outputs": [],
   "source": [
    "mydata = pd.read_csv(\"predictive_maintenance.csv\")"
   ]
  },
  {
   "cell_type": "markdown",
   "metadata": {
    "tags": []
   },
   "source": [
    "**Dataset - Field details:**\n",
    "- **Date :** Date of failure (date format: YYYY-MM-DD)\n",
    "- **Device :** Device Name (non-numeric field)\n",
    "- **Failure :** Device status - 1 = *Failure* or 0 = *Non-Failure* - **Target variable**\n",
    "- **Attribue 1 :** Device attribue 1\n",
    "- **Attribue 2 :** Device attribue 2\n",
    "- **Attribue 3 :** Device attribue 3\n",
    "- **Attribue 4 :** Device attribue 4\n",
    "- **Attribue 5 :** Device attribue 5\n",
    "- **Attribue 6 :** Device attribue 6\n",
    "- **Attribue 7 :** Device attribue 7\n",
    "- **Attribue 8 :** Device attribue 8\n",
    "- **Attribue 9 :** Device attribue 9"
   ]
  },
  {
   "cell_type": "code",
   "execution_count": 3,
   "metadata": {},
   "outputs": [
    {
     "data": {
      "text/html": [
       "<div>\n",
       "<style scoped>\n",
       "    .dataframe tbody tr th:only-of-type {\n",
       "        vertical-align: middle;\n",
       "    }\n",
       "\n",
       "    .dataframe tbody tr th {\n",
       "        vertical-align: top;\n",
       "    }\n",
       "\n",
       "    .dataframe thead th {\n",
       "        text-align: right;\n",
       "    }\n",
       "</style>\n",
       "<table border=\"1\" class=\"dataframe\">\n",
       "  <thead>\n",
       "    <tr style=\"text-align: right;\">\n",
       "      <th></th>\n",
       "      <th>date</th>\n",
       "      <th>device</th>\n",
       "      <th>failure</th>\n",
       "      <th>attribute1</th>\n",
       "      <th>attribute2</th>\n",
       "      <th>attribute3</th>\n",
       "      <th>attribute4</th>\n",
       "      <th>attribute5</th>\n",
       "      <th>attribute6</th>\n",
       "      <th>attribute7</th>\n",
       "      <th>attribute8</th>\n",
       "      <th>attribute9</th>\n",
       "    </tr>\n",
       "  </thead>\n",
       "  <tbody>\n",
       "    <tr>\n",
       "      <th>0</th>\n",
       "      <td>2015-01-01</td>\n",
       "      <td>S1F01085</td>\n",
       "      <td>0</td>\n",
       "      <td>215630672</td>\n",
       "      <td>56</td>\n",
       "      <td>0</td>\n",
       "      <td>52</td>\n",
       "      <td>6</td>\n",
       "      <td>407438</td>\n",
       "      <td>0</td>\n",
       "      <td>0</td>\n",
       "      <td>7</td>\n",
       "    </tr>\n",
       "    <tr>\n",
       "      <th>1</th>\n",
       "      <td>2015-01-01</td>\n",
       "      <td>S1F0166B</td>\n",
       "      <td>0</td>\n",
       "      <td>61370680</td>\n",
       "      <td>0</td>\n",
       "      <td>3</td>\n",
       "      <td>0</td>\n",
       "      <td>6</td>\n",
       "      <td>403174</td>\n",
       "      <td>0</td>\n",
       "      <td>0</td>\n",
       "      <td>0</td>\n",
       "    </tr>\n",
       "    <tr>\n",
       "      <th>2</th>\n",
       "      <td>2015-01-01</td>\n",
       "      <td>S1F01E6Y</td>\n",
       "      <td>0</td>\n",
       "      <td>173295968</td>\n",
       "      <td>0</td>\n",
       "      <td>0</td>\n",
       "      <td>0</td>\n",
       "      <td>12</td>\n",
       "      <td>237394</td>\n",
       "      <td>0</td>\n",
       "      <td>0</td>\n",
       "      <td>0</td>\n",
       "    </tr>\n",
       "    <tr>\n",
       "      <th>3</th>\n",
       "      <td>2015-01-01</td>\n",
       "      <td>S1F01JE0</td>\n",
       "      <td>0</td>\n",
       "      <td>79694024</td>\n",
       "      <td>0</td>\n",
       "      <td>0</td>\n",
       "      <td>0</td>\n",
       "      <td>6</td>\n",
       "      <td>410186</td>\n",
       "      <td>0</td>\n",
       "      <td>0</td>\n",
       "      <td>0</td>\n",
       "    </tr>\n",
       "    <tr>\n",
       "      <th>4</th>\n",
       "      <td>2015-01-01</td>\n",
       "      <td>S1F01R2B</td>\n",
       "      <td>0</td>\n",
       "      <td>135970480</td>\n",
       "      <td>0</td>\n",
       "      <td>0</td>\n",
       "      <td>0</td>\n",
       "      <td>15</td>\n",
       "      <td>313173</td>\n",
       "      <td>0</td>\n",
       "      <td>0</td>\n",
       "      <td>3</td>\n",
       "    </tr>\n",
       "    <tr>\n",
       "      <th>5</th>\n",
       "      <td>2015-01-01</td>\n",
       "      <td>S1F01TD5</td>\n",
       "      <td>0</td>\n",
       "      <td>68837488</td>\n",
       "      <td>0</td>\n",
       "      <td>0</td>\n",
       "      <td>41</td>\n",
       "      <td>6</td>\n",
       "      <td>413535</td>\n",
       "      <td>0</td>\n",
       "      <td>0</td>\n",
       "      <td>1</td>\n",
       "    </tr>\n",
       "    <tr>\n",
       "      <th>6</th>\n",
       "      <td>2015-01-01</td>\n",
       "      <td>S1F01XDJ</td>\n",
       "      <td>0</td>\n",
       "      <td>227721632</td>\n",
       "      <td>0</td>\n",
       "      <td>0</td>\n",
       "      <td>0</td>\n",
       "      <td>8</td>\n",
       "      <td>402525</td>\n",
       "      <td>0</td>\n",
       "      <td>0</td>\n",
       "      <td>0</td>\n",
       "    </tr>\n",
       "    <tr>\n",
       "      <th>7</th>\n",
       "      <td>2015-01-01</td>\n",
       "      <td>S1F023H2</td>\n",
       "      <td>0</td>\n",
       "      <td>141503600</td>\n",
       "      <td>0</td>\n",
       "      <td>0</td>\n",
       "      <td>1</td>\n",
       "      <td>19</td>\n",
       "      <td>494462</td>\n",
       "      <td>16</td>\n",
       "      <td>16</td>\n",
       "      <td>3</td>\n",
       "    </tr>\n",
       "    <tr>\n",
       "      <th>8</th>\n",
       "      <td>2015-01-01</td>\n",
       "      <td>S1F02A0J</td>\n",
       "      <td>0</td>\n",
       "      <td>8217840</td>\n",
       "      <td>0</td>\n",
       "      <td>1</td>\n",
       "      <td>0</td>\n",
       "      <td>14</td>\n",
       "      <td>311869</td>\n",
       "      <td>0</td>\n",
       "      <td>0</td>\n",
       "      <td>0</td>\n",
       "    </tr>\n",
       "    <tr>\n",
       "      <th>9</th>\n",
       "      <td>2015-01-01</td>\n",
       "      <td>S1F02DZ2</td>\n",
       "      <td>0</td>\n",
       "      <td>116440096</td>\n",
       "      <td>0</td>\n",
       "      <td>323</td>\n",
       "      <td>9</td>\n",
       "      <td>9</td>\n",
       "      <td>407905</td>\n",
       "      <td>0</td>\n",
       "      <td>0</td>\n",
       "      <td>164</td>\n",
       "    </tr>\n",
       "  </tbody>\n",
       "</table>\n",
       "</div>"
      ],
      "text/plain": [
       "         date    device  failure  attribute1  attribute2  attribute3  \\\n",
       "0  2015-01-01  S1F01085        0   215630672          56           0   \n",
       "1  2015-01-01  S1F0166B        0    61370680           0           3   \n",
       "2  2015-01-01  S1F01E6Y        0   173295968           0           0   \n",
       "3  2015-01-01  S1F01JE0        0    79694024           0           0   \n",
       "4  2015-01-01  S1F01R2B        0   135970480           0           0   \n",
       "5  2015-01-01  S1F01TD5        0    68837488           0           0   \n",
       "6  2015-01-01  S1F01XDJ        0   227721632           0           0   \n",
       "7  2015-01-01  S1F023H2        0   141503600           0           0   \n",
       "8  2015-01-01  S1F02A0J        0     8217840           0           1   \n",
       "9  2015-01-01  S1F02DZ2        0   116440096           0         323   \n",
       "\n",
       "   attribute4  attribute5  attribute6  attribute7  attribute8  attribute9  \n",
       "0          52           6      407438           0           0           7  \n",
       "1           0           6      403174           0           0           0  \n",
       "2           0          12      237394           0           0           0  \n",
       "3           0           6      410186           0           0           0  \n",
       "4           0          15      313173           0           0           3  \n",
       "5          41           6      413535           0           0           1  \n",
       "6           0           8      402525           0           0           0  \n",
       "7           1          19      494462          16          16           3  \n",
       "8           0          14      311869           0           0           0  \n",
       "9           9           9      407905           0           0         164  "
      ]
     },
     "execution_count": 3,
     "metadata": {},
     "output_type": "execute_result"
    }
   ],
   "source": [
    "# Display top 10 rows\n",
    "mydata.head(10)"
   ]
  },
  {
   "cell_type": "code",
   "execution_count": 4,
   "metadata": {},
   "outputs": [
    {
     "data": {
      "text/html": [
       "<div>\n",
       "<style scoped>\n",
       "    .dataframe tbody tr th:only-of-type {\n",
       "        vertical-align: middle;\n",
       "    }\n",
       "\n",
       "    .dataframe tbody tr th {\n",
       "        vertical-align: top;\n",
       "    }\n",
       "\n",
       "    .dataframe thead th {\n",
       "        text-align: right;\n",
       "    }\n",
       "</style>\n",
       "<table border=\"1\" class=\"dataframe\">\n",
       "  <thead>\n",
       "    <tr style=\"text-align: right;\">\n",
       "      <th></th>\n",
       "      <th>date</th>\n",
       "      <th>device</th>\n",
       "      <th>failure</th>\n",
       "      <th>attribute1</th>\n",
       "      <th>attribute2</th>\n",
       "      <th>attribute3</th>\n",
       "      <th>attribute4</th>\n",
       "      <th>attribute5</th>\n",
       "      <th>attribute6</th>\n",
       "      <th>attribute7</th>\n",
       "      <th>attribute8</th>\n",
       "      <th>attribute9</th>\n",
       "    </tr>\n",
       "  </thead>\n",
       "  <tbody>\n",
       "    <tr>\n",
       "      <th>124484</th>\n",
       "      <td>2015-11-02</td>\n",
       "      <td>W1F0SJJ2</td>\n",
       "      <td>0</td>\n",
       "      <td>47525320</td>\n",
       "      <td>0</td>\n",
       "      <td>0</td>\n",
       "      <td>0</td>\n",
       "      <td>12</td>\n",
       "      <td>357421</td>\n",
       "      <td>0</td>\n",
       "      <td>0</td>\n",
       "      <td>0</td>\n",
       "    </tr>\n",
       "    <tr>\n",
       "      <th>124485</th>\n",
       "      <td>2015-11-02</td>\n",
       "      <td>Z1F0GB8A</td>\n",
       "      <td>0</td>\n",
       "      <td>92823192</td>\n",
       "      <td>0</td>\n",
       "      <td>0</td>\n",
       "      <td>0</td>\n",
       "      <td>9</td>\n",
       "      <td>357127</td>\n",
       "      <td>0</td>\n",
       "      <td>0</td>\n",
       "      <td>0</td>\n",
       "    </tr>\n",
       "    <tr>\n",
       "      <th>124486</th>\n",
       "      <td>2015-11-02</td>\n",
       "      <td>Z1F0GE1M</td>\n",
       "      <td>0</td>\n",
       "      <td>222878704</td>\n",
       "      <td>0</td>\n",
       "      <td>0</td>\n",
       "      <td>0</td>\n",
       "      <td>10</td>\n",
       "      <td>349826</td>\n",
       "      <td>0</td>\n",
       "      <td>0</td>\n",
       "      <td>0</td>\n",
       "    </tr>\n",
       "    <tr>\n",
       "      <th>124487</th>\n",
       "      <td>2015-11-02</td>\n",
       "      <td>Z1F0KJDS</td>\n",
       "      <td>0</td>\n",
       "      <td>79883648</td>\n",
       "      <td>0</td>\n",
       "      <td>0</td>\n",
       "      <td>0</td>\n",
       "      <td>11</td>\n",
       "      <td>358121</td>\n",
       "      <td>0</td>\n",
       "      <td>0</td>\n",
       "      <td>0</td>\n",
       "    </tr>\n",
       "    <tr>\n",
       "      <th>124488</th>\n",
       "      <td>2015-11-02</td>\n",
       "      <td>Z1F0KKN4</td>\n",
       "      <td>0</td>\n",
       "      <td>218765712</td>\n",
       "      <td>0</td>\n",
       "      <td>0</td>\n",
       "      <td>0</td>\n",
       "      <td>9</td>\n",
       "      <td>353525</td>\n",
       "      <td>0</td>\n",
       "      <td>0</td>\n",
       "      <td>0</td>\n",
       "    </tr>\n",
       "    <tr>\n",
       "      <th>124489</th>\n",
       "      <td>2015-11-02</td>\n",
       "      <td>Z1F0MA1S</td>\n",
       "      <td>0</td>\n",
       "      <td>18310224</td>\n",
       "      <td>0</td>\n",
       "      <td>0</td>\n",
       "      <td>0</td>\n",
       "      <td>10</td>\n",
       "      <td>353705</td>\n",
       "      <td>8</td>\n",
       "      <td>8</td>\n",
       "      <td>0</td>\n",
       "    </tr>\n",
       "    <tr>\n",
       "      <th>124490</th>\n",
       "      <td>2015-11-02</td>\n",
       "      <td>Z1F0Q8RT</td>\n",
       "      <td>0</td>\n",
       "      <td>172556680</td>\n",
       "      <td>96</td>\n",
       "      <td>107</td>\n",
       "      <td>4</td>\n",
       "      <td>11</td>\n",
       "      <td>332792</td>\n",
       "      <td>0</td>\n",
       "      <td>0</td>\n",
       "      <td>13</td>\n",
       "    </tr>\n",
       "    <tr>\n",
       "      <th>124491</th>\n",
       "      <td>2015-11-02</td>\n",
       "      <td>Z1F0QK05</td>\n",
       "      <td>0</td>\n",
       "      <td>19029120</td>\n",
       "      <td>4832</td>\n",
       "      <td>0</td>\n",
       "      <td>0</td>\n",
       "      <td>11</td>\n",
       "      <td>350410</td>\n",
       "      <td>0</td>\n",
       "      <td>0</td>\n",
       "      <td>0</td>\n",
       "    </tr>\n",
       "    <tr>\n",
       "      <th>124492</th>\n",
       "      <td>2015-11-02</td>\n",
       "      <td>Z1F0QL3N</td>\n",
       "      <td>0</td>\n",
       "      <td>226953408</td>\n",
       "      <td>0</td>\n",
       "      <td>0</td>\n",
       "      <td>0</td>\n",
       "      <td>12</td>\n",
       "      <td>358980</td>\n",
       "      <td>0</td>\n",
       "      <td>0</td>\n",
       "      <td>0</td>\n",
       "    </tr>\n",
       "    <tr>\n",
       "      <th>124493</th>\n",
       "      <td>2015-11-02</td>\n",
       "      <td>Z1F0QLC1</td>\n",
       "      <td>0</td>\n",
       "      <td>17572840</td>\n",
       "      <td>0</td>\n",
       "      <td>0</td>\n",
       "      <td>0</td>\n",
       "      <td>10</td>\n",
       "      <td>351431</td>\n",
       "      <td>0</td>\n",
       "      <td>0</td>\n",
       "      <td>0</td>\n",
       "    </tr>\n",
       "  </tbody>\n",
       "</table>\n",
       "</div>"
      ],
      "text/plain": [
       "              date    device  failure  attribute1  attribute2  attribute3  \\\n",
       "124484  2015-11-02  W1F0SJJ2        0    47525320           0           0   \n",
       "124485  2015-11-02  Z1F0GB8A        0    92823192           0           0   \n",
       "124486  2015-11-02  Z1F0GE1M        0   222878704           0           0   \n",
       "124487  2015-11-02  Z1F0KJDS        0    79883648           0           0   \n",
       "124488  2015-11-02  Z1F0KKN4        0   218765712           0           0   \n",
       "124489  2015-11-02  Z1F0MA1S        0    18310224           0           0   \n",
       "124490  2015-11-02  Z1F0Q8RT        0   172556680          96         107   \n",
       "124491  2015-11-02  Z1F0QK05        0    19029120        4832           0   \n",
       "124492  2015-11-02  Z1F0QL3N        0   226953408           0           0   \n",
       "124493  2015-11-02  Z1F0QLC1        0    17572840           0           0   \n",
       "\n",
       "        attribute4  attribute5  attribute6  attribute7  attribute8  attribute9  \n",
       "124484           0          12      357421           0           0           0  \n",
       "124485           0           9      357127           0           0           0  \n",
       "124486           0          10      349826           0           0           0  \n",
       "124487           0          11      358121           0           0           0  \n",
       "124488           0           9      353525           0           0           0  \n",
       "124489           0          10      353705           8           8           0  \n",
       "124490           4          11      332792           0           0          13  \n",
       "124491           0          11      350410           0           0           0  \n",
       "124492           0          12      358980           0           0           0  \n",
       "124493           0          10      351431           0           0           0  "
      ]
     },
     "execution_count": 4,
     "metadata": {},
     "output_type": "execute_result"
    }
   ],
   "source": [
    "# Display last 10 rows\n",
    "mydata.tail(10)"
   ]
  },
  {
   "cell_type": "code",
   "execution_count": 5,
   "metadata": {
    "tags": []
   },
   "outputs": [
    {
     "name": "stdout",
     "output_type": "stream",
     "text": [
      "<class 'pandas.core.frame.DataFrame'>\n",
      "RangeIndex: 124494 entries, 0 to 124493\n",
      "Data columns (total 12 columns):\n",
      " #   Column      Non-Null Count   Dtype \n",
      "---  ------      --------------   ----- \n",
      " 0   date        124494 non-null  object\n",
      " 1   device      124494 non-null  object\n",
      " 2   failure     124494 non-null  int64 \n",
      " 3   attribute1  124494 non-null  int64 \n",
      " 4   attribute2  124494 non-null  int64 \n",
      " 5   attribute3  124494 non-null  int64 \n",
      " 6   attribute4  124494 non-null  int64 \n",
      " 7   attribute5  124494 non-null  int64 \n",
      " 8   attribute6  124494 non-null  int64 \n",
      " 9   attribute7  124494 non-null  int64 \n",
      " 10  attribute8  124494 non-null  int64 \n",
      " 11  attribute9  124494 non-null  int64 \n",
      "dtypes: int64(10), object(2)\n",
      "memory usage: 11.4+ MB\n"
     ]
    }
   ],
   "source": [
    "mydata.info()"
   ]
  },
  {
   "cell_type": "code",
   "execution_count": 6,
   "metadata": {},
   "outputs": [
    {
     "data": {
      "text/html": [
       "<div>\n",
       "<style scoped>\n",
       "    .dataframe tbody tr th:only-of-type {\n",
       "        vertical-align: middle;\n",
       "    }\n",
       "\n",
       "    .dataframe tbody tr th {\n",
       "        vertical-align: top;\n",
       "    }\n",
       "\n",
       "    .dataframe thead th {\n",
       "        text-align: right;\n",
       "    }\n",
       "</style>\n",
       "<table border=\"1\" class=\"dataframe\">\n",
       "  <thead>\n",
       "    <tr style=\"text-align: right;\">\n",
       "      <th></th>\n",
       "      <th>date</th>\n",
       "      <th>device</th>\n",
       "      <th>failure</th>\n",
       "      <th>attribute1</th>\n",
       "      <th>attribute2</th>\n",
       "      <th>attribute3</th>\n",
       "      <th>attribute4</th>\n",
       "      <th>attribute5</th>\n",
       "      <th>attribute6</th>\n",
       "      <th>attribute7</th>\n",
       "      <th>attribute8</th>\n",
       "      <th>attribute9</th>\n",
       "    </tr>\n",
       "  </thead>\n",
       "  <tbody>\n",
       "    <tr>\n",
       "      <th>0</th>\n",
       "      <td>2015-01-01</td>\n",
       "      <td>S1F01085</td>\n",
       "      <td>0</td>\n",
       "      <td>215630672</td>\n",
       "      <td>56</td>\n",
       "      <td>0</td>\n",
       "      <td>52</td>\n",
       "      <td>6</td>\n",
       "      <td>407438</td>\n",
       "      <td>0</td>\n",
       "      <td>0</td>\n",
       "      <td>7</td>\n",
       "    </tr>\n",
       "    <tr>\n",
       "      <th>1</th>\n",
       "      <td>2015-01-01</td>\n",
       "      <td>S1F0166B</td>\n",
       "      <td>0</td>\n",
       "      <td>61370680</td>\n",
       "      <td>0</td>\n",
       "      <td>3</td>\n",
       "      <td>0</td>\n",
       "      <td>6</td>\n",
       "      <td>403174</td>\n",
       "      <td>0</td>\n",
       "      <td>0</td>\n",
       "      <td>0</td>\n",
       "    </tr>\n",
       "    <tr>\n",
       "      <th>2</th>\n",
       "      <td>2015-01-01</td>\n",
       "      <td>S1F01E6Y</td>\n",
       "      <td>0</td>\n",
       "      <td>173295968</td>\n",
       "      <td>0</td>\n",
       "      <td>0</td>\n",
       "      <td>0</td>\n",
       "      <td>12</td>\n",
       "      <td>237394</td>\n",
       "      <td>0</td>\n",
       "      <td>0</td>\n",
       "      <td>0</td>\n",
       "    </tr>\n",
       "    <tr>\n",
       "      <th>3</th>\n",
       "      <td>2015-01-01</td>\n",
       "      <td>S1F01JE0</td>\n",
       "      <td>0</td>\n",
       "      <td>79694024</td>\n",
       "      <td>0</td>\n",
       "      <td>0</td>\n",
       "      <td>0</td>\n",
       "      <td>6</td>\n",
       "      <td>410186</td>\n",
       "      <td>0</td>\n",
       "      <td>0</td>\n",
       "      <td>0</td>\n",
       "    </tr>\n",
       "    <tr>\n",
       "      <th>4</th>\n",
       "      <td>2015-01-01</td>\n",
       "      <td>S1F01R2B</td>\n",
       "      <td>0</td>\n",
       "      <td>135970480</td>\n",
       "      <td>0</td>\n",
       "      <td>0</td>\n",
       "      <td>0</td>\n",
       "      <td>15</td>\n",
       "      <td>313173</td>\n",
       "      <td>0</td>\n",
       "      <td>0</td>\n",
       "      <td>3</td>\n",
       "    </tr>\n",
       "    <tr>\n",
       "      <th>...</th>\n",
       "      <td>...</td>\n",
       "      <td>...</td>\n",
       "      <td>...</td>\n",
       "      <td>...</td>\n",
       "      <td>...</td>\n",
       "      <td>...</td>\n",
       "      <td>...</td>\n",
       "      <td>...</td>\n",
       "      <td>...</td>\n",
       "      <td>...</td>\n",
       "      <td>...</td>\n",
       "      <td>...</td>\n",
       "    </tr>\n",
       "    <tr>\n",
       "      <th>124489</th>\n",
       "      <td>2015-11-02</td>\n",
       "      <td>Z1F0MA1S</td>\n",
       "      <td>0</td>\n",
       "      <td>18310224</td>\n",
       "      <td>0</td>\n",
       "      <td>0</td>\n",
       "      <td>0</td>\n",
       "      <td>10</td>\n",
       "      <td>353705</td>\n",
       "      <td>8</td>\n",
       "      <td>8</td>\n",
       "      <td>0</td>\n",
       "    </tr>\n",
       "    <tr>\n",
       "      <th>124490</th>\n",
       "      <td>2015-11-02</td>\n",
       "      <td>Z1F0Q8RT</td>\n",
       "      <td>0</td>\n",
       "      <td>172556680</td>\n",
       "      <td>96</td>\n",
       "      <td>107</td>\n",
       "      <td>4</td>\n",
       "      <td>11</td>\n",
       "      <td>332792</td>\n",
       "      <td>0</td>\n",
       "      <td>0</td>\n",
       "      <td>13</td>\n",
       "    </tr>\n",
       "    <tr>\n",
       "      <th>124491</th>\n",
       "      <td>2015-11-02</td>\n",
       "      <td>Z1F0QK05</td>\n",
       "      <td>0</td>\n",
       "      <td>19029120</td>\n",
       "      <td>4832</td>\n",
       "      <td>0</td>\n",
       "      <td>0</td>\n",
       "      <td>11</td>\n",
       "      <td>350410</td>\n",
       "      <td>0</td>\n",
       "      <td>0</td>\n",
       "      <td>0</td>\n",
       "    </tr>\n",
       "    <tr>\n",
       "      <th>124492</th>\n",
       "      <td>2015-11-02</td>\n",
       "      <td>Z1F0QL3N</td>\n",
       "      <td>0</td>\n",
       "      <td>226953408</td>\n",
       "      <td>0</td>\n",
       "      <td>0</td>\n",
       "      <td>0</td>\n",
       "      <td>12</td>\n",
       "      <td>358980</td>\n",
       "      <td>0</td>\n",
       "      <td>0</td>\n",
       "      <td>0</td>\n",
       "    </tr>\n",
       "    <tr>\n",
       "      <th>124493</th>\n",
       "      <td>2015-11-02</td>\n",
       "      <td>Z1F0QLC1</td>\n",
       "      <td>0</td>\n",
       "      <td>17572840</td>\n",
       "      <td>0</td>\n",
       "      <td>0</td>\n",
       "      <td>0</td>\n",
       "      <td>10</td>\n",
       "      <td>351431</td>\n",
       "      <td>0</td>\n",
       "      <td>0</td>\n",
       "      <td>0</td>\n",
       "    </tr>\n",
       "  </tbody>\n",
       "</table>\n",
       "<p>124494 rows × 12 columns</p>\n",
       "</div>"
      ],
      "text/plain": [
       "              date    device  failure  attribute1  attribute2  attribute3  \\\n",
       "0       2015-01-01  S1F01085        0   215630672          56           0   \n",
       "1       2015-01-01  S1F0166B        0    61370680           0           3   \n",
       "2       2015-01-01  S1F01E6Y        0   173295968           0           0   \n",
       "3       2015-01-01  S1F01JE0        0    79694024           0           0   \n",
       "4       2015-01-01  S1F01R2B        0   135970480           0           0   \n",
       "...            ...       ...      ...         ...         ...         ...   \n",
       "124489  2015-11-02  Z1F0MA1S        0    18310224           0           0   \n",
       "124490  2015-11-02  Z1F0Q8RT        0   172556680          96         107   \n",
       "124491  2015-11-02  Z1F0QK05        0    19029120        4832           0   \n",
       "124492  2015-11-02  Z1F0QL3N        0   226953408           0           0   \n",
       "124493  2015-11-02  Z1F0QLC1        0    17572840           0           0   \n",
       "\n",
       "        attribute4  attribute5  attribute6  attribute7  attribute8  attribute9  \n",
       "0               52           6      407438           0           0           7  \n",
       "1                0           6      403174           0           0           0  \n",
       "2                0          12      237394           0           0           0  \n",
       "3                0           6      410186           0           0           0  \n",
       "4                0          15      313173           0           0           3  \n",
       "...            ...         ...         ...         ...         ...         ...  \n",
       "124489           0          10      353705           8           8           0  \n",
       "124490           4          11      332792           0           0          13  \n",
       "124491           0          11      350410           0           0           0  \n",
       "124492           0          12      358980           0           0           0  \n",
       "124493           0          10      351431           0           0           0  \n",
       "\n",
       "[124494 rows x 12 columns]"
      ]
     },
     "execution_count": 6,
     "metadata": {},
     "output_type": "execute_result"
    }
   ],
   "source": [
    "# Checking for non-numeric values\n",
    "mydata[~mydata.applymap(np.isreal).all(1)]"
   ]
  },
  {
   "cell_type": "code",
   "execution_count": 7,
   "metadata": {},
   "outputs": [
    {
     "data": {
      "text/plain": [
       "date          0\n",
       "device        0\n",
       "failure       0\n",
       "attribute1    0\n",
       "attribute2    0\n",
       "attribute3    0\n",
       "attribute4    0\n",
       "attribute5    0\n",
       "attribute6    0\n",
       "attribute7    0\n",
       "attribute8    0\n",
       "attribute9    0\n",
       "dtype: int64"
      ]
     },
     "execution_count": 7,
     "metadata": {},
     "output_type": "execute_result"
    }
   ],
   "source": [
    "# Checking for NULL values in any column\n",
    "mydata.isnull().sum()\n",
    "\n",
    "# Outcome: All fields have non-null values"
   ]
  },
  {
   "cell_type": "code",
   "execution_count": 8,
   "metadata": {},
   "outputs": [
    {
     "data": {
      "text/plain": [
       "failure\n",
       "0    124388\n",
       "1       106\n",
       "dtype: int64"
      ]
     },
     "execution_count": 8,
     "metadata": {},
     "output_type": "execute_result"
    }
   ],
   "source": [
    "# Target variable - Unique values data count\n",
    "mydata.groupby('failure').size()"
   ]
  },
  {
   "cell_type": "markdown",
   "metadata": {
    "tags": []
   },
   "source": [
    "> **Above result shows that**\n",
    "> - Around 0.1% of the dataset has failure = 1, and others have failure = 0\n",
    "> \n",
    "> This is not a balanced dataset.\n",
    "> \n",
    "> Lets filter this dataset to get data only for the devices containing both the values 0 & 1 for failure column"
   ]
  },
  {
   "cell_type": "code",
   "execution_count": 9,
   "metadata": {},
   "outputs": [
    {
     "name": "stdout",
     "output_type": "stream",
     "text": [
      "4885      S1F0RRB1\n",
      "6879      S1F0CTDN\n",
      "8823      W1F0PNA5\n",
      "11957     W1F13SRV\n",
      "12668     W1F1230J\n",
      "            ...   \n",
      "109927    W1F1CB5E\n",
      "114251    Z1F0MRPJ\n",
      "122118    S1F0JGJV\n",
      "122808    Z1F14BGY\n",
      "124329    W1F0T0B1\n",
      "Name: device, Length: 106, dtype: object\n"
     ]
    }
   ],
   "source": [
    "# Get the list of devices with both failure values 0 and 1\n",
    "\n",
    "device_data = pd.DataFrame(mydata)\n",
    "failed_devies = device_data[device_data['failure']==1]['device']\n",
    "print(failed_devies)"
   ]
  },
  {
   "cell_type": "code",
   "execution_count": 10,
   "metadata": {},
   "outputs": [
    {
     "name": "stdout",
     "output_type": "stream",
     "text": [
      "             date    device  failure  attribute1  attribute2  attribute3  \\\n",
      "0      2015-01-01  S1F023H2        0   141503600           0           0   \n",
      "1      2015-01-02  S1F023H2        0   161679800           0           0   \n",
      "2      2015-01-03  S1F023H2        0   182358672           0           0   \n",
      "3      2015-01-04  S1F023H2        0   204752808           0           0   \n",
      "4      2015-01-05  S1F023H2        0   226982888           0           0   \n",
      "...           ...       ...      ...         ...         ...         ...   \n",
      "10708  2015-06-26  Z1F1VQFY        0   193955488           0           0   \n",
      "10709  2015-06-27  Z1F1VQFY        0   153482784           0           0   \n",
      "10710  2015-06-28  Z1F1VQFY        0   155789448           0           0   \n",
      "10711  2015-06-29  Z1F1VQFY        0    24092712           0           0   \n",
      "10712  2015-06-30  Z1F1VQFY        1   178051496           0           0   \n",
      "\n",
      "       attribute4  attribute5  attribute6  attribute7  attribute8  attribute9  \n",
      "0               1          19      494462          16          16           3  \n",
      "1               1          19      495730          16          16           3  \n",
      "2               1          19      496974          16          16           3  \n",
      "3               1          19      497559          16          16           3  \n",
      "4               1          19      498753          16          16           3  \n",
      "...           ...         ...         ...         ...         ...         ...  \n",
      "10708           0           7      264217           0           0           0  \n",
      "10709           0           7      265316           0           0           0  \n",
      "10710           0           7      265316           0           0           0  \n",
      "10711           0           7      265316           0           0           0  \n",
      "10712           0           7      265316           0           0           0  \n",
      "\n",
      "[10713 rows x 12 columns]\n"
     ]
    }
   ],
   "source": [
    "# Filter the actual dataset with the above list of devices\n",
    "myds = pd.merge(device_data, failed_devies, on=['device'])\n",
    "print(myds)"
   ]
  },
  {
   "cell_type": "code",
   "execution_count": 11,
   "metadata": {},
   "outputs": [
    {
     "data": {
      "text/plain": [
       "failure\n",
       "0    10607\n",
       "1      106\n",
       "dtype: int64"
      ]
     },
     "execution_count": 11,
     "metadata": {},
     "output_type": "execute_result"
    }
   ],
   "source": [
    "# Target variable - Unique values data count\n",
    "myds.groupby('failure').size()"
   ]
  },
  {
   "cell_type": "markdown",
   "metadata": {},
   "source": [
    "> **Now we filtered the dataset as below**\n",
    "> - Around 1% of the dataset are classified as 1, and others are classified as 0 - This is again a imbalanced dataset\n",
    "> - This dataset only contains the devices which have failed, so it will not be appropriate to use this dataset for further analysis"
   ]
  },
  {
   "cell_type": "markdown",
   "metadata": {},
   "source": [
    "## Find the correlation between attributes using Heatmap"
   ]
  },
  {
   "cell_type": "code",
   "execution_count": 12,
   "metadata": {},
   "outputs": [],
   "source": [
    "# Check for correlation between the attribute values\n",
    "corr = mydata.corr()"
   ]
  },
  {
   "cell_type": "code",
   "execution_count": 13,
   "metadata": {},
   "outputs": [
    {
     "data": {
      "text/plain": [
       "<AxesSubplot:>"
      ]
     },
     "execution_count": 13,
     "metadata": {},
     "output_type": "execute_result"
    },
    {
     "data": {
      "image/png": "[encoded data removed]",
      "text/plain": [
       "<Figure size 864x720 with 2 Axes>"
      ]
     },
     "metadata": {
      "needs_background": "light"
     },
     "output_type": "display_data"
    }
   ],
   "source": [
    "# Display the correlation as Heatmap\n",
    "plt.subplots(figsize=(12,10)) \n",
    "sns.heatmap(corr, annot=True)"
   ]
  },
  {
   "cell_type": "markdown",
   "metadata": {},
   "source": [
    "> **The above heatmap shows that**\n",
    "> - None of the attributes have significant correlation between each other\n",
    "> - Attribute7 and Attribute8 have same data, hence one of these 2 columns can be dropped"
   ]
  },
  {
   "cell_type": "code",
   "execution_count": 14,
   "metadata": {},
   "outputs": [],
   "source": [
    "mydata = mydata.drop('attribute8', axis=1)\n",
    "# myds = myds.drop('attribute8', axis=1)"
   ]
  },
  {
   "cell_type": "code",
   "execution_count": 15,
   "metadata": {},
   "outputs": [
    {
     "name": "stdout",
     "output_type": "stream",
     "text": [
      "<class 'pandas.core.frame.DataFrame'>\n",
      "RangeIndex: 124494 entries, 0 to 124493\n",
      "Data columns (total 11 columns):\n",
      " #   Column      Non-Null Count   Dtype \n",
      "---  ------      --------------   ----- \n",
      " 0   date        124494 non-null  object\n",
      " 1   device      124494 non-null  object\n",
      " 2   failure     124494 non-null  int64 \n",
      " 3   attribute1  124494 non-null  int64 \n",
      " 4   attribute2  124494 non-null  int64 \n",
      " 5   attribute3  124494 non-null  int64 \n",
      " 6   attribute4  124494 non-null  int64 \n",
      " 7   attribute5  124494 non-null  int64 \n",
      " 8   attribute6  124494 non-null  int64 \n",
      " 9   attribute7  124494 non-null  int64 \n",
      " 10  attribute9  124494 non-null  int64 \n",
      "dtypes: int64(9), object(2)\n",
      "memory usage: 10.4+ MB\n"
     ]
    }
   ],
   "source": [
    "# Column Attribute8 is dropped\n",
    "mydata.info()"
   ]
  },
  {
   "cell_type": "markdown",
   "metadata": {},
   "source": [
    "## Histogram to identify the distribution of Attribute values in the dataset"
   ]
  },
  {
   "cell_type": "code",
   "execution_count": 16,
   "metadata": {
    "scrolled": true
   },
   "outputs": [
    {
     "data": {
      "text/plain": [
       "array([[<AxesSubplot:title={'center':'failure'}>,\n",
       "        <AxesSubplot:title={'center':'attribute1'}>,\n",
       "        <AxesSubplot:title={'center':'attribute2'}>],\n",
       "       [<AxesSubplot:title={'center':'attribute3'}>,\n",
       "        <AxesSubplot:title={'center':'attribute4'}>,\n",
       "        <AxesSubplot:title={'center':'attribute5'}>],\n",
       "       [<AxesSubplot:title={'center':'attribute6'}>,\n",
       "        <AxesSubplot:title={'center':'attribute7'}>,\n",
       "        <AxesSubplot:title={'center':'attribute9'}>]], dtype=object)"
      ]
     },
     "execution_count": 16,
     "metadata": {},
     "output_type": "execute_result"
    },
    {
     "data": {
      "image/png": "[encoded data removed]",
      "text/plain": [
       "<Figure size 504x504 with 9 Axes>"
      ]
     },
     "metadata": {
      "needs_background": "light"
     },
     "output_type": "display_data"
    }
   ],
   "source": [
    "# Histogram for the attributes\n",
    "mydata.hist(figsize=(7,7))"
   ]
  },
  {
   "cell_type": "markdown",
   "metadata": {},
   "source": [
    "> From the above Histogram chart, \n",
    "> - ATTRIBUTE1 is evenly distributed in the chart\n",
    "> - ATTRIBUTE6 has a normal distribution\n",
    "> - ATTRIBUTE2 - 5 & 9 - imbalanced and skewed"
   ]
  },
  {
   "cell_type": "markdown",
   "metadata": {},
   "source": [
    "## Restructure data grouped by Device Name"
   ]
  },
  {
   "cell_type": "code",
   "execution_count": 17,
   "metadata": {},
   "outputs": [],
   "source": [
    "device_group = mydata.groupby('device').agg({'failure':'sum', 'attribute1':'mean', 'attribute2':'mean','attribute3':'mean', 'attribute4':'mean', 'attribute5':'mean', 'attribute6':'mean', 'attribute7':'mean', 'attribute9':'mean'})"
   ]
  },
  {
   "cell_type": "code",
   "execution_count": 18,
   "metadata": {},
   "outputs": [
    {
     "data": {
      "text/html": [
       "<div>\n",
       "<style scoped>\n",
       "    .dataframe tbody tr th:only-of-type {\n",
       "        vertical-align: middle;\n",
       "    }\n",
       "\n",
       "    .dataframe tbody tr th {\n",
       "        vertical-align: top;\n",
       "    }\n",
       "\n",
       "    .dataframe thead th {\n",
       "        text-align: right;\n",
       "    }\n",
       "</style>\n",
       "<table border=\"1\" class=\"dataframe\">\n",
       "  <thead>\n",
       "    <tr style=\"text-align: right;\">\n",
       "      <th></th>\n",
       "      <th>failure</th>\n",
       "      <th>attribute1</th>\n",
       "      <th>attribute2</th>\n",
       "      <th>attribute3</th>\n",
       "      <th>attribute4</th>\n",
       "      <th>attribute5</th>\n",
       "      <th>attribute6</th>\n",
       "      <th>attribute7</th>\n",
       "      <th>attribute9</th>\n",
       "    </tr>\n",
       "    <tr>\n",
       "      <th>device</th>\n",
       "      <th></th>\n",
       "      <th></th>\n",
       "      <th></th>\n",
       "      <th></th>\n",
       "      <th></th>\n",
       "      <th></th>\n",
       "      <th></th>\n",
       "      <th></th>\n",
       "      <th></th>\n",
       "    </tr>\n",
       "  </thead>\n",
       "  <tbody>\n",
       "    <tr>\n",
       "      <th>S1F01085</th>\n",
       "      <td>0</td>\n",
       "      <td>1.159330e+08</td>\n",
       "      <td>56.0</td>\n",
       "      <td>0.0</td>\n",
       "      <td>52.0</td>\n",
       "      <td>6.0</td>\n",
       "      <td>407878.500000</td>\n",
       "      <td>0.0</td>\n",
       "      <td>7.0</td>\n",
       "    </tr>\n",
       "    <tr>\n",
       "      <th>S1F013BB</th>\n",
       "      <td>0</td>\n",
       "      <td>1.198783e+08</td>\n",
       "      <td>0.0</td>\n",
       "      <td>0.0</td>\n",
       "      <td>0.0</td>\n",
       "      <td>5.0</td>\n",
       "      <td>689021.000000</td>\n",
       "      <td>0.0</td>\n",
       "      <td>0.0</td>\n",
       "    </tr>\n",
       "    <tr>\n",
       "      <th>S1F0166B</th>\n",
       "      <td>0</td>\n",
       "      <td>1.074958e+08</td>\n",
       "      <td>0.0</td>\n",
       "      <td>3.0</td>\n",
       "      <td>0.0</td>\n",
       "      <td>6.0</td>\n",
       "      <td>403549.166667</td>\n",
       "      <td>0.0</td>\n",
       "      <td>0.0</td>\n",
       "    </tr>\n",
       "    <tr>\n",
       "      <th>S1F01E6Y</th>\n",
       "      <td>0</td>\n",
       "      <td>1.331127e+08</td>\n",
       "      <td>0.0</td>\n",
       "      <td>0.0</td>\n",
       "      <td>0.0</td>\n",
       "      <td>12.0</td>\n",
       "      <td>254926.604167</td>\n",
       "      <td>0.0</td>\n",
       "      <td>0.0</td>\n",
       "    </tr>\n",
       "    <tr>\n",
       "      <th>S1F01JE0</th>\n",
       "      <td>0</td>\n",
       "      <td>1.673001e+08</td>\n",
       "      <td>0.0</td>\n",
       "      <td>0.0</td>\n",
       "      <td>0.0</td>\n",
       "      <td>6.0</td>\n",
       "      <td>410630.833333</td>\n",
       "      <td>0.0</td>\n",
       "      <td>0.0</td>\n",
       "    </tr>\n",
       "  </tbody>\n",
       "</table>\n",
       "</div>"
      ],
      "text/plain": [
       "          failure    attribute1  attribute2  attribute3  attribute4  \\\n",
       "device                                                                \n",
       "S1F01085        0  1.159330e+08        56.0         0.0        52.0   \n",
       "S1F013BB        0  1.198783e+08         0.0         0.0         0.0   \n",
       "S1F0166B        0  1.074958e+08         0.0         3.0         0.0   \n",
       "S1F01E6Y        0  1.331127e+08         0.0         0.0         0.0   \n",
       "S1F01JE0        0  1.673001e+08         0.0         0.0         0.0   \n",
       "\n",
       "          attribute5     attribute6  attribute7  attribute9  \n",
       "device                                                       \n",
       "S1F01085         6.0  407878.500000         0.0         7.0  \n",
       "S1F013BB         5.0  689021.000000         0.0         0.0  \n",
       "S1F0166B         6.0  403549.166667         0.0         0.0  \n",
       "S1F01E6Y        12.0  254926.604167         0.0         0.0  \n",
       "S1F01JE0         6.0  410630.833333         0.0         0.0  "
      ]
     },
     "execution_count": 18,
     "metadata": {},
     "output_type": "execute_result"
    }
   ],
   "source": [
    "device_group.head(5)"
   ]
  },
  {
   "cell_type": "code",
   "execution_count": 19,
   "metadata": {},
   "outputs": [],
   "source": [
    "# updating the column names\n",
    "device_columns = ['failure', 'attribute1mean','attribute2mean','attribute3mean','attribute4mean','attribute5mean','attribute6mean','attribute7mean','attribute9mean']\n",
    "\n",
    "device_group = pd.DataFrame(device_group, index = device_group.index)\n",
    "device_group.columns = device_columns"
   ]
  },
  {
   "cell_type": "code",
   "execution_count": 20,
   "metadata": {},
   "outputs": [
    {
     "name": "stdout",
     "output_type": "stream",
     "text": [
      "<class 'pandas.core.frame.DataFrame'>\n",
      "Index: 1168 entries, S1F01085 to Z1F2PBHX\n",
      "Data columns (total 9 columns):\n",
      " #   Column          Non-Null Count  Dtype  \n",
      "---  ------          --------------  -----  \n",
      " 0   failure         1168 non-null   int64  \n",
      " 1   attribute1mean  1168 non-null   float64\n",
      " 2   attribute2mean  1168 non-null   float64\n",
      " 3   attribute3mean  1168 non-null   float64\n",
      " 4   attribute4mean  1168 non-null   float64\n",
      " 5   attribute5mean  1168 non-null   float64\n",
      " 6   attribute6mean  1168 non-null   float64\n",
      " 7   attribute7mean  1168 non-null   float64\n",
      " 8   attribute9mean  1168 non-null   float64\n",
      "dtypes: float64(8), int64(1)\n",
      "memory usage: 91.2+ KB\n"
     ]
    }
   ],
   "source": [
    "device_group.info()"
   ]
  },
  {
   "cell_type": "code",
   "execution_count": 21,
   "metadata": {},
   "outputs": [
    {
     "data": {
      "text/html": [
       "<div>\n",
       "<style scoped>\n",
       "    .dataframe tbody tr th:only-of-type {\n",
       "        vertical-align: middle;\n",
       "    }\n",
       "\n",
       "    .dataframe tbody tr th {\n",
       "        vertical-align: top;\n",
       "    }\n",
       "\n",
       "    .dataframe thead th {\n",
       "        text-align: right;\n",
       "    }\n",
       "</style>\n",
       "<table border=\"1\" class=\"dataframe\">\n",
       "  <thead>\n",
       "    <tr style=\"text-align: right;\">\n",
       "      <th></th>\n",
       "      <th>failure</th>\n",
       "      <th>attribute1mean</th>\n",
       "      <th>attribute2mean</th>\n",
       "      <th>attribute3mean</th>\n",
       "      <th>attribute4mean</th>\n",
       "      <th>attribute5mean</th>\n",
       "      <th>attribute6mean</th>\n",
       "      <th>attribute7mean</th>\n",
       "      <th>attribute9mean</th>\n",
       "    </tr>\n",
       "  </thead>\n",
       "  <tbody>\n",
       "    <tr>\n",
       "      <th>count</th>\n",
       "      <td>1168.000000</td>\n",
       "      <td>1.168000e+03</td>\n",
       "      <td>1168.000000</td>\n",
       "      <td>1168.000000</td>\n",
       "      <td>1168.000000</td>\n",
       "      <td>1168.000000</td>\n",
       "      <td>1168.000000</td>\n",
       "      <td>1168.000000</td>\n",
       "      <td>1168.000000</td>\n",
       "    </tr>\n",
       "    <tr>\n",
       "      <th>mean</th>\n",
       "      <td>0.090753</td>\n",
       "      <td>1.231767e+08</td>\n",
       "      <td>501.830716</td>\n",
       "      <td>29.325346</td>\n",
       "      <td>5.760627</td>\n",
       "      <td>12.214346</td>\n",
       "      <td>255836.280307</td>\n",
       "      <td>1.001178</td>\n",
       "      <td>49.191531</td>\n",
       "    </tr>\n",
       "    <tr>\n",
       "      <th>std</th>\n",
       "      <td>0.287381</td>\n",
       "      <td>2.114492e+07</td>\n",
       "      <td>4260.625750</td>\n",
       "      <td>736.020157</td>\n",
       "      <td>50.332671</td>\n",
       "      <td>12.361193</td>\n",
       "      <td>98440.570220</td>\n",
       "      <td>10.472889</td>\n",
       "      <td>678.410916</td>\n",
       "    </tr>\n",
       "    <tr>\n",
       "      <th>min</th>\n",
       "      <td>0.000000</td>\n",
       "      <td>2.625001e+07</td>\n",
       "      <td>0.000000</td>\n",
       "      <td>0.000000</td>\n",
       "      <td>0.000000</td>\n",
       "      <td>1.000000</td>\n",
       "      <td>9.491525</td>\n",
       "      <td>0.000000</td>\n",
       "      <td>0.000000</td>\n",
       "    </tr>\n",
       "    <tr>\n",
       "      <th>25%</th>\n",
       "      <td>0.000000</td>\n",
       "      <td>1.165699e+08</td>\n",
       "      <td>0.000000</td>\n",
       "      <td>0.000000</td>\n",
       "      <td>0.000000</td>\n",
       "      <td>7.000000</td>\n",
       "      <td>208430.170833</td>\n",
       "      <td>0.000000</td>\n",
       "      <td>0.000000</td>\n",
       "    </tr>\n",
       "    <tr>\n",
       "      <th>50%</th>\n",
       "      <td>0.000000</td>\n",
       "      <td>1.225641e+08</td>\n",
       "      <td>0.000000</td>\n",
       "      <td>0.000000</td>\n",
       "      <td>0.000000</td>\n",
       "      <td>9.000000</td>\n",
       "      <td>245490.749516</td>\n",
       "      <td>0.000000</td>\n",
       "      <td>0.000000</td>\n",
       "    </tr>\n",
       "    <tr>\n",
       "      <th>75%</th>\n",
       "      <td>0.000000</td>\n",
       "      <td>1.287762e+08</td>\n",
       "      <td>0.000000</td>\n",
       "      <td>0.000000</td>\n",
       "      <td>0.000000</td>\n",
       "      <td>12.000000</td>\n",
       "      <td>309632.231771</td>\n",
       "      <td>0.000000</td>\n",
       "      <td>1.000000</td>\n",
       "    </tr>\n",
       "    <tr>\n",
       "      <th>max</th>\n",
       "      <td>1.000000</td>\n",
       "      <td>2.104697e+08</td>\n",
       "      <td>64780.444444</td>\n",
       "      <td>24929.000000</td>\n",
       "      <td>1074.000000</td>\n",
       "      <td>98.000000</td>\n",
       "      <td>689021.000000</td>\n",
       "      <td>312.000000</td>\n",
       "      <td>18701.000000</td>\n",
       "    </tr>\n",
       "  </tbody>\n",
       "</table>\n",
       "</div>"
      ],
      "text/plain": [
       "           failure  attribute1mean  attribute2mean  attribute3mean  \\\n",
       "count  1168.000000    1.168000e+03     1168.000000     1168.000000   \n",
       "mean      0.090753    1.231767e+08      501.830716       29.325346   \n",
       "std       0.287381    2.114492e+07     4260.625750      736.020157   \n",
       "min       0.000000    2.625001e+07        0.000000        0.000000   \n",
       "25%       0.000000    1.165699e+08        0.000000        0.000000   \n",
       "50%       0.000000    1.225641e+08        0.000000        0.000000   \n",
       "75%       0.000000    1.287762e+08        0.000000        0.000000   \n",
       "max       1.000000    2.104697e+08    64780.444444    24929.000000   \n",
       "\n",
       "       attribute4mean  attribute5mean  attribute6mean  attribute7mean  \\\n",
       "count     1168.000000     1168.000000     1168.000000     1168.000000   \n",
       "mean         5.760627       12.214346   255836.280307        1.001178   \n",
       "std         50.332671       12.361193    98440.570220       10.472889   \n",
       "min          0.000000        1.000000        9.491525        0.000000   \n",
       "25%          0.000000        7.000000   208430.170833        0.000000   \n",
       "50%          0.000000        9.000000   245490.749516        0.000000   \n",
       "75%          0.000000       12.000000   309632.231771        0.000000   \n",
       "max       1074.000000       98.000000   689021.000000      312.000000   \n",
       "\n",
       "       attribute9mean  \n",
       "count     1168.000000  \n",
       "mean        49.191531  \n",
       "std        678.410916  \n",
       "min          0.000000  \n",
       "25%          0.000000  \n",
       "50%          0.000000  \n",
       "75%          1.000000  \n",
       "max      18701.000000  "
      ]
     },
     "execution_count": 21,
     "metadata": {},
     "output_type": "execute_result"
    }
   ],
   "source": [
    "device_group.describe(include='all')"
   ]
  },
  {
   "cell_type": "code",
   "execution_count": 22,
   "metadata": {},
   "outputs": [
    {
     "data": {
      "text/html": [
       "<div>\n",
       "<style scoped>\n",
       "    .dataframe tbody tr th:only-of-type {\n",
       "        vertical-align: middle;\n",
       "    }\n",
       "\n",
       "    .dataframe tbody tr th {\n",
       "        vertical-align: top;\n",
       "    }\n",
       "\n",
       "    .dataframe thead th {\n",
       "        text-align: right;\n",
       "    }\n",
       "</style>\n",
       "<table border=\"1\" class=\"dataframe\">\n",
       "  <thead>\n",
       "    <tr style=\"text-align: right;\">\n",
       "      <th></th>\n",
       "      <th>failure</th>\n",
       "      <th>attribute1mean</th>\n",
       "      <th>attribute2mean</th>\n",
       "      <th>attribute3mean</th>\n",
       "      <th>attribute4mean</th>\n",
       "      <th>attribute5mean</th>\n",
       "      <th>attribute6mean</th>\n",
       "      <th>attribute7mean</th>\n",
       "      <th>attribute9mean</th>\n",
       "    </tr>\n",
       "    <tr>\n",
       "      <th>device</th>\n",
       "      <th></th>\n",
       "      <th></th>\n",
       "      <th></th>\n",
       "      <th></th>\n",
       "      <th></th>\n",
       "      <th></th>\n",
       "      <th></th>\n",
       "      <th></th>\n",
       "      <th></th>\n",
       "    </tr>\n",
       "  </thead>\n",
       "  <tbody>\n",
       "    <tr>\n",
       "      <th>S1F01085</th>\n",
       "      <td>0</td>\n",
       "      <td>1.159330e+08</td>\n",
       "      <td>56.0</td>\n",
       "      <td>0.0</td>\n",
       "      <td>52.0</td>\n",
       "      <td>6.000000</td>\n",
       "      <td>407878.500000</td>\n",
       "      <td>0.0</td>\n",
       "      <td>7.0</td>\n",
       "    </tr>\n",
       "    <tr>\n",
       "      <th>S1F013BB</th>\n",
       "      <td>0</td>\n",
       "      <td>1.198783e+08</td>\n",
       "      <td>0.0</td>\n",
       "      <td>0.0</td>\n",
       "      <td>0.0</td>\n",
       "      <td>5.000000</td>\n",
       "      <td>689021.000000</td>\n",
       "      <td>0.0</td>\n",
       "      <td>0.0</td>\n",
       "    </tr>\n",
       "    <tr>\n",
       "      <th>S1F0166B</th>\n",
       "      <td>0</td>\n",
       "      <td>1.074958e+08</td>\n",
       "      <td>0.0</td>\n",
       "      <td>3.0</td>\n",
       "      <td>0.0</td>\n",
       "      <td>6.000000</td>\n",
       "      <td>403549.166667</td>\n",
       "      <td>0.0</td>\n",
       "      <td>0.0</td>\n",
       "    </tr>\n",
       "    <tr>\n",
       "      <th>S1F01E6Y</th>\n",
       "      <td>0</td>\n",
       "      <td>1.331127e+08</td>\n",
       "      <td>0.0</td>\n",
       "      <td>0.0</td>\n",
       "      <td>0.0</td>\n",
       "      <td>12.000000</td>\n",
       "      <td>254926.604167</td>\n",
       "      <td>0.0</td>\n",
       "      <td>0.0</td>\n",
       "    </tr>\n",
       "    <tr>\n",
       "      <th>S1F01JE0</th>\n",
       "      <td>0</td>\n",
       "      <td>1.673001e+08</td>\n",
       "      <td>0.0</td>\n",
       "      <td>0.0</td>\n",
       "      <td>0.0</td>\n",
       "      <td>6.000000</td>\n",
       "      <td>410630.833333</td>\n",
       "      <td>0.0</td>\n",
       "      <td>0.0</td>\n",
       "    </tr>\n",
       "    <tr>\n",
       "      <th>...</th>\n",
       "      <td>...</td>\n",
       "      <td>...</td>\n",
       "      <td>...</td>\n",
       "      <td>...</td>\n",
       "      <td>...</td>\n",
       "      <td>...</td>\n",
       "      <td>...</td>\n",
       "      <td>...</td>\n",
       "      <td>...</td>\n",
       "    </tr>\n",
       "    <tr>\n",
       "      <th>Z1F1VMZB</th>\n",
       "      <td>0</td>\n",
       "      <td>1.223971e+08</td>\n",
       "      <td>0.0</td>\n",
       "      <td>0.0</td>\n",
       "      <td>0.0</td>\n",
       "      <td>5.000000</td>\n",
       "      <td>222737.729452</td>\n",
       "      <td>0.0</td>\n",
       "      <td>0.0</td>\n",
       "    </tr>\n",
       "    <tr>\n",
       "      <th>Z1F1VQFY</th>\n",
       "      <td>1</td>\n",
       "      <td>1.237567e+08</td>\n",
       "      <td>0.0</td>\n",
       "      <td>0.0</td>\n",
       "      <td>0.0</td>\n",
       "      <td>6.328000</td>\n",
       "      <td>249436.960000</td>\n",
       "      <td>0.0</td>\n",
       "      <td>0.0</td>\n",
       "    </tr>\n",
       "    <tr>\n",
       "      <th>Z1F26YZB</th>\n",
       "      <td>0</td>\n",
       "      <td>1.205072e+08</td>\n",
       "      <td>0.0</td>\n",
       "      <td>1.0</td>\n",
       "      <td>0.0</td>\n",
       "      <td>1.000000</td>\n",
       "      <td>288869.226190</td>\n",
       "      <td>0.0</td>\n",
       "      <td>0.0</td>\n",
       "    </tr>\n",
       "    <tr>\n",
       "      <th>Z1F282ZV</th>\n",
       "      <td>0</td>\n",
       "      <td>1.180013e+08</td>\n",
       "      <td>0.0</td>\n",
       "      <td>1.0</td>\n",
       "      <td>0.0</td>\n",
       "      <td>1.000000</td>\n",
       "      <td>188909.761905</td>\n",
       "      <td>0.0</td>\n",
       "      <td>0.0</td>\n",
       "    </tr>\n",
       "    <tr>\n",
       "      <th>Z1F2PBHX</th>\n",
       "      <td>0</td>\n",
       "      <td>1.437494e+08</td>\n",
       "      <td>0.0</td>\n",
       "      <td>0.0</td>\n",
       "      <td>0.0</td>\n",
       "      <td>4.927711</td>\n",
       "      <td>158875.493976</td>\n",
       "      <td>0.0</td>\n",
       "      <td>0.0</td>\n",
       "    </tr>\n",
       "  </tbody>\n",
       "</table>\n",
       "<p>1168 rows × 9 columns</p>\n",
       "</div>"
      ],
      "text/plain": [
       "          failure  attribute1mean  attribute2mean  attribute3mean  \\\n",
       "device                                                              \n",
       "S1F01085        0    1.159330e+08            56.0             0.0   \n",
       "S1F013BB        0    1.198783e+08             0.0             0.0   \n",
       "S1F0166B        0    1.074958e+08             0.0             3.0   \n",
       "S1F01E6Y        0    1.331127e+08             0.0             0.0   \n",
       "S1F01JE0        0    1.673001e+08             0.0             0.0   \n",
       "...           ...             ...             ...             ...   \n",
       "Z1F1VMZB        0    1.223971e+08             0.0             0.0   \n",
       "Z1F1VQFY        1    1.237567e+08             0.0             0.0   \n",
       "Z1F26YZB        0    1.205072e+08             0.0             1.0   \n",
       "Z1F282ZV        0    1.180013e+08             0.0             1.0   \n",
       "Z1F2PBHX        0    1.437494e+08             0.0             0.0   \n",
       "\n",
       "          attribute4mean  attribute5mean  attribute6mean  attribute7mean  \\\n",
       "device                                                                     \n",
       "S1F01085            52.0        6.000000   407878.500000             0.0   \n",
       "S1F013BB             0.0        5.000000   689021.000000             0.0   \n",
       "S1F0166B             0.0        6.000000   403549.166667             0.0   \n",
       "S1F01E6Y             0.0       12.000000   254926.604167             0.0   \n",
       "S1F01JE0             0.0        6.000000   410630.833333             0.0   \n",
       "...                  ...             ...             ...             ...   \n",
       "Z1F1VMZB             0.0        5.000000   222737.729452             0.0   \n",
       "Z1F1VQFY             0.0        6.328000   249436.960000             0.0   \n",
       "Z1F26YZB             0.0        1.000000   288869.226190             0.0   \n",
       "Z1F282ZV             0.0        1.000000   188909.761905             0.0   \n",
       "Z1F2PBHX             0.0        4.927711   158875.493976             0.0   \n",
       "\n",
       "          attribute9mean  \n",
       "device                    \n",
       "S1F01085             7.0  \n",
       "S1F013BB             0.0  \n",
       "S1F0166B             0.0  \n",
       "S1F01E6Y             0.0  \n",
       "S1F01JE0             0.0  \n",
       "...                  ...  \n",
       "Z1F1VMZB             0.0  \n",
       "Z1F1VQFY             0.0  \n",
       "Z1F26YZB             0.0  \n",
       "Z1F282ZV             0.0  \n",
       "Z1F2PBHX             0.0  \n",
       "\n",
       "[1168 rows x 9 columns]"
      ]
     },
     "execution_count": 22,
     "metadata": {},
     "output_type": "execute_result"
    }
   ],
   "source": [
    "device_group.head(10000)"
   ]
  },
  {
   "cell_type": "markdown",
   "metadata": {},
   "source": [
    "# Building the Model"
   ]
  },
  {
   "cell_type": "code",
   "execution_count": 23,
   "metadata": {},
   "outputs": [],
   "source": [
    "from sklearn.model_selection import train_test_split\n",
    "\n",
    "# from sklearn.svm import SVC\n",
    "from sklearn.ensemble import GradientBoostingClassifier\n",
    "from sklearn.ensemble import RandomForestClassifier\n",
    "\n",
    "from sklearn import metrics\n",
    "from sklearn.metrics import accuracy_score\n",
    "from sklearn.metrics import confusion_matrix,classification_report\n",
    "from sklearn.preprocessing import StandardScaler"
   ]
  },
  {
   "cell_type": "markdown",
   "metadata": {
    "toc-hr-collapsed": true
   },
   "source": [
    "## Creating the Dataframes for Model Building"
   ]
  },
  {
   "cell_type": "code",
   "execution_count": 24,
   "metadata": {},
   "outputs": [],
   "source": [
    "# Lets keep 30% of data as the test data size\n",
    "test_size = 0.3\n",
    "\n",
    "# Random number as 7\n",
    "seed=7\n",
    "\n",
    "# Training data based on the original data from CSV file\n",
    "csv_X = mydata.drop([\"date\", \"device\", \"failure\"], axis=1)\n",
    "csv_Y = mydata[\"failure\"]\n",
    "\n",
    "# Training data based on the device grouping\n",
    "dg_X = device_group.drop([\"failure\"], axis=1)\n",
    "dg_Y = device_group[\"failure\"]\n",
    "\n",
    "# Model Summary\n",
    "model_scores = [[]]"
   ]
  },
  {
   "cell_type": "markdown",
   "metadata": {
    "tags": [],
    "toc-hr-collapsed": true
   },
   "source": [
    "## SVM Classifier"
   ]
  },
  {
   "cell_type": "markdown",
   "metadata": {},
   "source": [
    "### Actual Dataset from CSV"
   ]
  },
  {
   "cell_type": "code",
   "execution_count": 25,
   "metadata": {},
   "outputs": [],
   "source": [
    "# X = csv_X\n",
    "# Y = csv_Y\n",
    "# X_train, X_test, Y_train, Y_test = train_test_split(X, Y, test_size=test_size, random_state=seed)"
   ]
  },
  {
   "cell_type": "code",
   "execution_count": 26,
   "metadata": {},
   "outputs": [],
   "source": [
    "# svc = SVC(kernel='linear')\n",
    "# svc.fit(X_train, Y_train)\n",
    "# SVC_predict = svc.predict(X_test)"
   ]
  },
  {
   "cell_type": "code",
   "execution_count": 27,
   "metadata": {},
   "outputs": [],
   "source": [
    "# svc_score = accuracy_score(X_test , Y_test)\n",
    "# svc_precision = metrics.precision_score(Y_test, SVC_predict)\n",
    "# svc_recall = metrics.recall_score(Y_test, SVC_predict)"
   ]
  },
  {
   "cell_type": "code",
   "execution_count": 28,
   "metadata": {},
   "outputs": [],
   "source": [
    "# print(\"SVM Classifier Accuracy Score  :\",svc_score)\n",
    "# print(\"SVM Classifier Precision Score :\",svc_precision)\n",
    "# print(\"SVM Classifier Recall Score    :\",svc_recall)\n",
    "# print(\"Confusion Matrix:\")\n",
    "# print(metrics.confusion_matrix(Y_test, svc_predict))"
   ]
  },
  {
   "cell_type": "code",
   "execution_count": 29,
   "metadata": {},
   "outputs": [],
   "source": [
    "# model_scores=[[\"SVM Classifier\",\"CSV\",svc_score, svc_precision, svc_recall]]"
   ]
  },
  {
   "cell_type": "markdown",
   "metadata": {},
   "source": [
    "### Device Group Dataset"
   ]
  },
  {
   "cell_type": "code",
   "execution_count": 30,
   "metadata": {},
   "outputs": [],
   "source": [
    "# X = dg_X\n",
    "# Y = dg_Y\n",
    "# X_train, X_test, Y_train, Y_test = train_test_split(X, Y, test_size=test_size, random_state=seed)"
   ]
  },
  {
   "cell_type": "code",
   "execution_count": 31,
   "metadata": {},
   "outputs": [],
   "source": [
    "# dg_svc = SVC(kernel='linear')\n",
    "# dg_svc.fit(X_train, Y_train)\n",
    "# dg_SVC_predict = dg_svc.predict(X_test)"
   ]
  },
  {
   "cell_type": "code",
   "execution_count": 32,
   "metadata": {},
   "outputs": [],
   "source": [
    "# dg_svc_score = accuracy_score(X_test , Y_test)\n",
    "# dg_svc_precision = metrics.precision_score(Y_test, dg_SVC_predict)\n",
    "# dg_svc_recall = metrics.recall_score(Y_test, dg_SVC_predict)"
   ]
  },
  {
   "cell_type": "code",
   "execution_count": 33,
   "metadata": {},
   "outputs": [],
   "source": [
    "# print(\"SVM Classifier Accuracy Score  :\",dg_svc_score)\n",
    "# print(\"SVM Classifier Precision Score :\",dg_svc_precision)\n",
    "# print(\"SVM Classifier Recall Score    :\",dg_svc_recall)\n",
    "# print(\"Confusion Matrix:\")\n",
    "# print(metrics.confusion_matrix(Y_test, dg_svc_predict))"
   ]
  },
  {
   "cell_type": "code",
   "execution_count": 34,
   "metadata": {},
   "outputs": [],
   "source": [
    "# model_scores=[[\"SVM Classifier\",\"Device Group\",dg_svc_score, dg_svc_precision, dg_svc_recall]]"
   ]
  },
  {
   "cell_type": "markdown",
   "metadata": {
    "toc-hr-collapsed": true
   },
   "source": [
    "## Gradient Boosting"
   ]
  },
  {
   "cell_type": "markdown",
   "metadata": {},
   "source": [
    "### Actual Dataset from CSV"
   ]
  },
  {
   "cell_type": "code",
   "execution_count": 35,
   "metadata": {},
   "outputs": [],
   "source": [
    "X = csv_X\n",
    "Y = csv_Y\n",
    "X_train, X_test, Y_train, Y_test = train_test_split(X, Y, test_size=test_size, random_state=seed)"
   ]
  },
  {
   "cell_type": "code",
   "execution_count": 36,
   "metadata": {},
   "outputs": [],
   "source": [
    "gbcl = GradientBoostingClassifier(n_estimators = 50)\n",
    "gbcl = gbcl.fit(X_train, Y_train)\n",
    "gbc1_predict = gbcl.predict(X_test)"
   ]
  },
  {
   "cell_type": "code",
   "execution_count": 37,
   "metadata": {},
   "outputs": [],
   "source": [
    "gbcl_score = gbcl.score(X_test , Y_test)\n",
    "gbc1_precision = metrics.precision_score(Y_test, gbc1_predict)\n",
    "gbc1_recall = metrics.recall_score(Y_test, gbc1_predict)"
   ]
  },
  {
   "cell_type": "code",
   "execution_count": 38,
   "metadata": {},
   "outputs": [
    {
     "name": "stdout",
     "output_type": "stream",
     "text": [
      "GradientBoost Accuracy   Score: 0.9987148250287826\n",
      "Gradient Boost Precision Score: 0.1111111111111111\n",
      "Gradient Boost Recall    Score: 0.024390243902439025\n",
      "Confusion Matrix:\n",
      "[[37300     8]\n",
      " [   40     1]]\n"
     ]
    }
   ],
   "source": [
    "print(\"GradientBoost Accuracy   Score:\",gbcl_score)\n",
    "print(\"Gradient Boost Precision Score:\",gbc1_precision)\n",
    "print(\"Gradient Boost Recall    Score:\",gbc1_recall)\n",
    "print(\"Confusion Matrix:\")\n",
    "print(metrics.confusion_matrix(Y_test, gbc1_predict))"
   ]
  },
  {
   "cell_type": "code",
   "execution_count": 39,
   "metadata": {},
   "outputs": [],
   "source": [
    "model_scores=[[\"Gradient Boosting\",\"CSV\",gbcl_score, gbc1_precision, gbc1_recall]]"
   ]
  },
  {
   "cell_type": "markdown",
   "metadata": {},
   "source": [
    "### Device Group Dataset"
   ]
  },
  {
   "cell_type": "code",
   "execution_count": 40,
   "metadata": {},
   "outputs": [],
   "source": [
    "X = dg_X\n",
    "Y = dg_Y\n",
    "X_train, X_test, Y_train, Y_test = train_test_split(X, Y, test_size=test_size, random_state=seed)"
   ]
  },
  {
   "cell_type": "code",
   "execution_count": 41,
   "metadata": {},
   "outputs": [],
   "source": [
    "dg_gbcl = GradientBoostingClassifier(n_estimators = 50)\n",
    "dg_gbcl = gbcl.fit(X_train, Y_train)\n",
    "dg_gbcl_predict = gbcl.predict(X_test)"
   ]
  },
  {
   "cell_type": "code",
   "execution_count": 42,
   "metadata": {},
   "outputs": [],
   "source": [
    "dg_gbcl_score = dg_gbcl.score(X_test , Y_test)\n",
    "dg_gbcl_precision = metrics.precision_score(Y_test, dg_gbcl_predict)\n",
    "dg_gbcl_recall = metrics.recall_score(Y_test, dg_gbcl_predict)"
   ]
  },
  {
   "cell_type": "code",
   "execution_count": 43,
   "metadata": {},
   "outputs": [
    {
     "name": "stdout",
     "output_type": "stream",
     "text": [
      "GradientBoost Accuracy   Score: 0.9202279202279202\n",
      "Gradient Boost Precision Score: 0.5555555555555556\n",
      "Gradient Boost Recall    Score: 0.3333333333333333\n",
      "Confusion Matrix:\n",
      "[[313   8]\n",
      " [ 20  10]]\n"
     ]
    }
   ],
   "source": [
    "print(\"GradientBoost Accuracy   Score:\",dg_gbcl_score)\n",
    "print(\"Gradient Boost Precision Score:\",dg_gbcl_precision)\n",
    "print(\"Gradient Boost Recall    Score:\",dg_gbcl_recall)\n",
    "print(\"Confusion Matrix:\")\n",
    "print(metrics.confusion_matrix(Y_test, dg_gbcl_predict))"
   ]
  },
  {
   "cell_type": "code",
   "execution_count": 44,
   "metadata": {},
   "outputs": [],
   "source": [
    "model_scores.append([\"Gradient Boosting\",\"Device Group\",dg_gbcl_score, dg_gbcl_precision, dg_gbcl_recall])"
   ]
  },
  {
   "cell_type": "markdown",
   "metadata": {
    "toc-hr-collapsed": true
   },
   "source": [
    "## RandomForest"
   ]
  },
  {
   "cell_type": "markdown",
   "metadata": {},
   "source": [
    "### Actual Dataset from CSV"
   ]
  },
  {
   "cell_type": "code",
   "execution_count": 45,
   "metadata": {},
   "outputs": [],
   "source": [
    "X = csv_X\n",
    "Y = csv_Y\n",
    "X_train, X_test, Y_train, Y_test = train_test_split(X, Y, test_size=test_size, random_state=seed)"
   ]
  },
  {
   "cell_type": "code",
   "execution_count": 46,
   "metadata": {},
   "outputs": [],
   "source": [
    "rfcl = RandomForestClassifier(n_estimators = 70)\n",
    "rfcl = rfcl.fit(X_train, Y_train)\n",
    "rfcl_predict = rfcl.predict(X_test)"
   ]
  },
  {
   "cell_type": "code",
   "execution_count": 47,
   "metadata": {},
   "outputs": [],
   "source": [
    "rfcl_score = rfcl.score(X_test , Y_test)\n",
    "rfcl_precision = metrics.precision_score(Y_test, rfcl_predict)\n",
    "rfcl_recall = metrics.recall_score(Y_test, rfcl_predict)"
   ]
  },
  {
   "cell_type": "code",
   "execution_count": 48,
   "metadata": {},
   "outputs": [
    {
     "name": "stdout",
     "output_type": "stream",
     "text": [
      "RandomForest Accuracy Score  : 0.9987951484644837\n",
      "RandomForest Precision Score : 0.0\n",
      "RandomForest Recall Score    : 0.0\n",
      "Confusion Matrix:\n",
      "[[37304     4]\n",
      " [   41     0]]\n"
     ]
    }
   ],
   "source": [
    "print(\"RandomForest Accuracy Score  :\",rfcl_score)\n",
    "print(\"RandomForest Precision Score :\",rfcl_precision)\n",
    "print(\"RandomForest Recall Score    :\",rfcl_recall)\n",
    "print(\"Confusion Matrix:\")\n",
    "print(metrics.confusion_matrix(Y_test, rfcl_predict))"
   ]
  },
  {
   "cell_type": "code",
   "execution_count": 49,
   "metadata": {},
   "outputs": [],
   "source": [
    "model_scores.append([\"Random Forest\",\"CSV\", rfcl_score, rfcl_precision, rfcl_recall])"
   ]
  },
  {
   "cell_type": "markdown",
   "metadata": {},
   "source": [
    "### Device Group Dataset"
   ]
  },
  {
   "cell_type": "code",
   "execution_count": 50,
   "metadata": {},
   "outputs": [],
   "source": [
    "X = dg_X\n",
    "Y = dg_Y\n",
    "X_train, X_test, Y_train, Y_test = train_test_split(X, Y, test_size=test_size, random_state=seed)"
   ]
  },
  {
   "cell_type": "code",
   "execution_count": 51,
   "metadata": {},
   "outputs": [],
   "source": [
    "dg_rfcl = RandomForestClassifier(n_estimators = 70)\n",
    "dg_rfcl = rfcl.fit(X_train, Y_train)\n",
    "dg_rfcl_predict = rfcl.predict(X_test)"
   ]
  },
  {
   "cell_type": "code",
   "execution_count": 52,
   "metadata": {},
   "outputs": [],
   "source": [
    "dg_rfcl_score = dg_rfcl.score(X_test , Y_test)\n",
    "dg_rfcl_precision = metrics.precision_score(Y_test, dg_rfcl_predict)\n",
    "dg_rfcl_recall = metrics.recall_score(Y_test, dg_rfcl_predict)"
   ]
  },
  {
   "cell_type": "code",
   "execution_count": 53,
   "metadata": {},
   "outputs": [
    {
     "name": "stdout",
     "output_type": "stream",
     "text": [
      "RandomForest Accuracy Score  : 0.9202279202279202\n",
      "RandomForest Precision Score : 0.5454545454545454\n",
      "RandomForest Recall Score    : 0.4\n",
      "Confusion Matrix:\n",
      "[[311  10]\n",
      " [ 18  12]]\n"
     ]
    }
   ],
   "source": [
    "print(\"RandomForest Accuracy Score  :\",dg_rfcl_score)\n",
    "print(\"RandomForest Precision Score :\",dg_rfcl_precision)\n",
    "print(\"RandomForest Recall Score    :\",dg_rfcl_recall)\n",
    "print(\"Confusion Matrix:\")\n",
    "print(metrics.confusion_matrix(Y_test, dg_rfcl_predict))"
   ]
  },
  {
   "cell_type": "code",
   "execution_count": 54,
   "metadata": {},
   "outputs": [],
   "source": [
    "model_scores.append([\"Random Forest\",\"Device Group\",dg_rfcl_score, dg_rfcl_precision, dg_rfcl_recall])"
   ]
  },
  {
   "cell_type": "markdown",
   "metadata": {},
   "source": [
    "# Model Results summary"
   ]
  },
  {
   "cell_type": "code",
   "execution_count": 55,
   "metadata": {},
   "outputs": [
    {
     "data": {
      "text/html": [
       "<div>\n",
       "<style scoped>\n",
       "    .dataframe tbody tr th:only-of-type {\n",
       "        vertical-align: middle;\n",
       "    }\n",
       "\n",
       "    .dataframe tbody tr th {\n",
       "        vertical-align: top;\n",
       "    }\n",
       "\n",
       "    .dataframe thead th {\n",
       "        text-align: right;\n",
       "    }\n",
       "</style>\n",
       "<table border=\"1\" class=\"dataframe\">\n",
       "  <thead>\n",
       "    <tr style=\"text-align: right;\">\n",
       "      <th></th>\n",
       "      <th>Model</th>\n",
       "      <th>Dataset</th>\n",
       "      <th>Accuracy</th>\n",
       "      <th>Precision</th>\n",
       "      <th>Recall</th>\n",
       "    </tr>\n",
       "  </thead>\n",
       "  <tbody>\n",
       "    <tr>\n",
       "      <th>0</th>\n",
       "      <td>Gradient Boosting</td>\n",
       "      <td>CSV</td>\n",
       "      <td>0.998715</td>\n",
       "      <td>0.111111</td>\n",
       "      <td>0.024390</td>\n",
       "    </tr>\n",
       "    <tr>\n",
       "      <th>1</th>\n",
       "      <td>Gradient Boosting</td>\n",
       "      <td>Device Group</td>\n",
       "      <td>0.920228</td>\n",
       "      <td>0.555556</td>\n",
       "      <td>0.333333</td>\n",
       "    </tr>\n",
       "    <tr>\n",
       "      <th>2</th>\n",
       "      <td>Random Forest</td>\n",
       "      <td>CSV</td>\n",
       "      <td>0.998795</td>\n",
       "      <td>0.000000</td>\n",
       "      <td>0.000000</td>\n",
       "    </tr>\n",
       "    <tr>\n",
       "      <th>3</th>\n",
       "      <td>Random Forest</td>\n",
       "      <td>Device Group</td>\n",
       "      <td>0.920228</td>\n",
       "      <td>0.545455</td>\n",
       "      <td>0.400000</td>\n",
       "    </tr>\n",
       "  </tbody>\n",
       "</table>\n",
       "</div>"
      ],
      "text/plain": [
       "               Model       Dataset  Accuracy  Precision    Recall\n",
       "0  Gradient Boosting           CSV  0.998715   0.111111  0.024390\n",
       "1  Gradient Boosting  Device Group  0.920228   0.555556  0.333333\n",
       "2      Random Forest           CSV  0.998795   0.000000  0.000000\n",
       "3      Random Forest  Device Group  0.920228   0.545455  0.400000"
      ]
     },
     "execution_count": 55,
     "metadata": {},
     "output_type": "execute_result"
    }
   ],
   "source": [
    "m_scores = pd.DataFrame(model_scores,columns=[\"Model\",\"Dataset\",\"Accuracy\",\"Precision\",\"Recall\"])\n",
    "m_scores"
   ]
  },
  {
   "cell_type": "code",
   "execution_count": null,
   "metadata": {},
   "outputs": [],
   "source": []
  }
 ],
 "metadata": {
  "kernelspec": {
   "display_name": "Python 3",
   "language": "python",
   "name": "python3"
  },
  "language_info": {
   "codemirror_mode": {
    "name": "ipython",
    "version": 3
   },
   "file_extension": ".py",
   "mimetype": "text/x-python",
   "name": "python",
   "nbconvert_exporter": "python",
   "pygments_lexer": "ipython3",
   "version": "3.8.8"
  },
  "toc-autonumbering": true,
  "toc-showmarkdowntxt": false
 },
 "nbformat": 4,
 "nbformat_minor": 4
}
