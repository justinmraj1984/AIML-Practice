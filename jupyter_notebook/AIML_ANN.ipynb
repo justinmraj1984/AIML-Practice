{
 "cells": [
  {
   "cell_type": "code",
   "execution_count": 1,
   "metadata": {
    "executionInfo": {
     "elapsed": 421,
     "status": "ok",
     "timestamp": 1632059844290,
     "user": {
      "displayName": "senthil nathan",
      "photoUrl": "https://lh3.googleusercontent.com/a-/AOh14Gg1fu6P10GkXHh7-VTbVzv49xOIBnYk2UoXcYu5rg=s64",
      "userId": "05612624721290953067"
     },
     "user_tz": -330
    },
    "id": "dDRVH4JkBjbp"
   },
   "outputs": [],
   "source": [
    "#import libraries\n",
    "import numpy as np\n",
    "import pandas as pd\n",
    "import tensorflow as tf"
   ]
  },
  {
   "cell_type": "code",
   "execution_count": 2,
   "metadata": {
    "executionInfo": {
     "elapsed": 690,
     "status": "ok",
     "timestamp": 1632059852997,
     "user": {
      "displayName": "senthil nathan",
      "photoUrl": "https://lh3.googleusercontent.com/a-/AOh14Gg1fu6P10GkXHh7-VTbVzv49xOIBnYk2UoXcYu5rg=s64",
      "userId": "05612624721290953067"
     },
     "user_tz": -330
    },
    "id": "azUwbdoGBmdx"
   },
   "outputs": [],
   "source": [
    "# mounting google drive\n",
    "# from google.colab import drive"
   ]
  },
  {
   "cell_type": "code",
   "execution_count": 3,
   "metadata": {
    "colab": {
     "base_uri": "https://localhost:8080/"
    },
    "executionInfo": {
     "elapsed": 349,
     "status": "ok",
     "timestamp": 1632059863427,
     "user": {
      "displayName": "senthil nathan",
      "photoUrl": "https://lh3.googleusercontent.com/a-/AOh14Gg1fu6P10GkXHh7-VTbVzv49xOIBnYk2UoXcYu5rg=s64",
      "userId": "05612624721290953067"
     },
     "user_tz": -330
    },
    "id": "VD2r3C1kBu9z",
    "outputId": "29467b57-13ee-4bac-996a-c63765c9a99d"
   },
   "outputs": [],
   "source": [
    "# drive.mount('/content/drive/')"
   ]
  },
  {
   "cell_type": "code",
   "execution_count": 4,
   "metadata": {
    "executionInfo": {
     "elapsed": 455,
     "status": "ok",
     "timestamp": 1632059874728,
     "user": {
      "displayName": "senthil nathan",
      "photoUrl": "https://lh3.googleusercontent.com/a-/AOh14Gg1fu6P10GkXHh7-VTbVzv49xOIBnYk2UoXcYu5rg=s64",
      "userId": "05612624721290953067"
     },
     "user_tz": -330
    },
    "id": "WVJ6JD-PBzls"
   },
   "outputs": [],
   "source": [
    "#----------------- Data loading------------------------#\n",
    "# dataset = pd.read_csv('/content/drive/My Drive/Churn_Modelling.csv')\n",
    "dataset = pd.read_csv('Churn_Modelling.csv')"
   ]
  },
  {
   "cell_type": "code",
   "execution_count": 5,
   "metadata": {
    "colab": {
     "base_uri": "https://localhost:8080/",
     "height": 204
    },
    "executionInfo": {
     "elapsed": 566,
     "status": "ok",
     "timestamp": 1632059883194,
     "user": {
      "displayName": "senthil nathan",
      "photoUrl": "https://lh3.googleusercontent.com/a-/AOh14Gg1fu6P10GkXHh7-VTbVzv49xOIBnYk2UoXcYu5rg=s64",
      "userId": "05612624721290953067"
     },
     "user_tz": -330
    },
    "id": "CixQYpZhBjb0",
    "outputId": "53e4037c-689e-4a72-a899-fe73942d471e"
   },
   "outputs": [
    {
     "data": {
      "text/html": [
       "<div>\n",
       "<style scoped>\n",
       "    .dataframe tbody tr th:only-of-type {\n",
       "        vertical-align: middle;\n",
       "    }\n",
       "\n",
       "    .dataframe tbody tr th {\n",
       "        vertical-align: top;\n",
       "    }\n",
       "\n",
       "    .dataframe thead th {\n",
       "        text-align: right;\n",
       "    }\n",
       "</style>\n",
       "<table border=\"1\" class=\"dataframe\">\n",
       "  <thead>\n",
       "    <tr style=\"text-align: right;\">\n",
       "      <th></th>\n",
       "      <th>RowNumber</th>\n",
       "      <th>CustomerId</th>\n",
       "      <th>Surname</th>\n",
       "      <th>CreditScore</th>\n",
       "      <th>Geography</th>\n",
       "      <th>Gender</th>\n",
       "      <th>Age</th>\n",
       "      <th>Tenure</th>\n",
       "      <th>Balance</th>\n",
       "      <th>NumOfProducts</th>\n",
       "      <th>HasCrCard</th>\n",
       "      <th>IsActiveMember</th>\n",
       "      <th>EstimatedSalary</th>\n",
       "      <th>Exited</th>\n",
       "    </tr>\n",
       "  </thead>\n",
       "  <tbody>\n",
       "    <tr>\n",
       "      <th>0</th>\n",
       "      <td>1</td>\n",
       "      <td>15634602</td>\n",
       "      <td>Hargrave</td>\n",
       "      <td>619</td>\n",
       "      <td>France</td>\n",
       "      <td>Female</td>\n",
       "      <td>42</td>\n",
       "      <td>2</td>\n",
       "      <td>0.00</td>\n",
       "      <td>1</td>\n",
       "      <td>1</td>\n",
       "      <td>1</td>\n",
       "      <td>101348.88</td>\n",
       "      <td>1</td>\n",
       "    </tr>\n",
       "    <tr>\n",
       "      <th>1</th>\n",
       "      <td>2</td>\n",
       "      <td>15647311</td>\n",
       "      <td>Hill</td>\n",
       "      <td>608</td>\n",
       "      <td>Spain</td>\n",
       "      <td>Female</td>\n",
       "      <td>41</td>\n",
       "      <td>1</td>\n",
       "      <td>83807.86</td>\n",
       "      <td>1</td>\n",
       "      <td>0</td>\n",
       "      <td>1</td>\n",
       "      <td>112542.58</td>\n",
       "      <td>0</td>\n",
       "    </tr>\n",
       "    <tr>\n",
       "      <th>2</th>\n",
       "      <td>3</td>\n",
       "      <td>15619304</td>\n",
       "      <td>Onio</td>\n",
       "      <td>502</td>\n",
       "      <td>France</td>\n",
       "      <td>Female</td>\n",
       "      <td>42</td>\n",
       "      <td>8</td>\n",
       "      <td>159660.80</td>\n",
       "      <td>3</td>\n",
       "      <td>1</td>\n",
       "      <td>0</td>\n",
       "      <td>113931.57</td>\n",
       "      <td>1</td>\n",
       "    </tr>\n",
       "    <tr>\n",
       "      <th>3</th>\n",
       "      <td>4</td>\n",
       "      <td>15701354</td>\n",
       "      <td>Boni</td>\n",
       "      <td>699</td>\n",
       "      <td>France</td>\n",
       "      <td>Female</td>\n",
       "      <td>39</td>\n",
       "      <td>1</td>\n",
       "      <td>0.00</td>\n",
       "      <td>2</td>\n",
       "      <td>0</td>\n",
       "      <td>0</td>\n",
       "      <td>93826.63</td>\n",
       "      <td>0</td>\n",
       "    </tr>\n",
       "    <tr>\n",
       "      <th>4</th>\n",
       "      <td>5</td>\n",
       "      <td>15737888</td>\n",
       "      <td>Mitchell</td>\n",
       "      <td>850</td>\n",
       "      <td>Spain</td>\n",
       "      <td>Female</td>\n",
       "      <td>43</td>\n",
       "      <td>2</td>\n",
       "      <td>125510.82</td>\n",
       "      <td>1</td>\n",
       "      <td>1</td>\n",
       "      <td>1</td>\n",
       "      <td>79084.10</td>\n",
       "      <td>0</td>\n",
       "    </tr>\n",
       "  </tbody>\n",
       "</table>\n",
       "</div>"
      ],
      "text/plain": [
       "   RowNumber  CustomerId   Surname  CreditScore Geography  Gender  Age  \\\n",
       "0          1    15634602  Hargrave          619    France  Female   42   \n",
       "1          2    15647311      Hill          608     Spain  Female   41   \n",
       "2          3    15619304      Onio          502    France  Female   42   \n",
       "3          4    15701354      Boni          699    France  Female   39   \n",
       "4          5    15737888  Mitchell          850     Spain  Female   43   \n",
       "\n",
       "   Tenure    Balance  NumOfProducts  HasCrCard  IsActiveMember  \\\n",
       "0       2       0.00              1          1               1   \n",
       "1       1   83807.86              1          0               1   \n",
       "2       8  159660.80              3          1               0   \n",
       "3       1       0.00              2          0               0   \n",
       "4       2  125510.82              1          1               1   \n",
       "\n",
       "   EstimatedSalary  Exited  \n",
       "0        101348.88       1  \n",
       "1        112542.58       0  \n",
       "2        113931.57       1  \n",
       "3         93826.63       0  \n",
       "4         79084.10       0  "
      ]
     },
     "execution_count": 5,
     "metadata": {},
     "output_type": "execute_result"
    }
   ],
   "source": [
    "#partial view of dataset from top\n",
    "dataset.head()"
   ]
  },
  {
   "cell_type": "code",
   "execution_count": 8,
   "metadata": {
    "colab": {
     "base_uri": "https://localhost:8080/",
     "height": 204
    },
    "executionInfo": {
     "elapsed": 651,
     "status": "ok",
     "timestamp": 1632059904885,
     "user": {
      "displayName": "senthil nathan",
      "photoUrl": "https://lh3.googleusercontent.com/a-/AOh14Gg1fu6P10GkXHh7-VTbVzv49xOIBnYk2UoXcYu5rg=s64",
      "userId": "05612624721290953067"
     },
     "user_tz": -330
    },
    "id": "2M0BR7XDC_3Y",
    "outputId": "bbb33286-1da8-4a95-c240-02568ae51705"
   },
   "outputs": [
    {
     "data": {
      "text/html": [
       "<div>\n",
       "<style scoped>\n",
       "    .dataframe tbody tr th:only-of-type {\n",
       "        vertical-align: middle;\n",
       "    }\n",
       "\n",
       "    .dataframe tbody tr th {\n",
       "        vertical-align: top;\n",
       "    }\n",
       "\n",
       "    .dataframe thead th {\n",
       "        text-align: right;\n",
       "    }\n",
       "</style>\n",
       "<table border=\"1\" class=\"dataframe\">\n",
       "  <thead>\n",
       "    <tr style=\"text-align: right;\">\n",
       "      <th></th>\n",
       "      <th>RowNumber</th>\n",
       "      <th>CustomerId</th>\n",
       "      <th>Surname</th>\n",
       "      <th>CreditScore</th>\n",
       "      <th>Geography</th>\n",
       "      <th>Gender</th>\n",
       "      <th>Age</th>\n",
       "      <th>Tenure</th>\n",
       "      <th>Balance</th>\n",
       "      <th>NumOfProducts</th>\n",
       "      <th>HasCrCard</th>\n",
       "      <th>IsActiveMember</th>\n",
       "      <th>EstimatedSalary</th>\n",
       "      <th>Exited</th>\n",
       "    </tr>\n",
       "  </thead>\n",
       "  <tbody>\n",
       "    <tr>\n",
       "      <th>9995</th>\n",
       "      <td>9996</td>\n",
       "      <td>15606229</td>\n",
       "      <td>Obijiaku</td>\n",
       "      <td>771</td>\n",
       "      <td>France</td>\n",
       "      <td>Male</td>\n",
       "      <td>39</td>\n",
       "      <td>5</td>\n",
       "      <td>0.00</td>\n",
       "      <td>2</td>\n",
       "      <td>1</td>\n",
       "      <td>0</td>\n",
       "      <td>96270.64</td>\n",
       "      <td>0</td>\n",
       "    </tr>\n",
       "    <tr>\n",
       "      <th>9996</th>\n",
       "      <td>9997</td>\n",
       "      <td>15569892</td>\n",
       "      <td>Johnstone</td>\n",
       "      <td>516</td>\n",
       "      <td>France</td>\n",
       "      <td>Male</td>\n",
       "      <td>35</td>\n",
       "      <td>10</td>\n",
       "      <td>57369.61</td>\n",
       "      <td>1</td>\n",
       "      <td>1</td>\n",
       "      <td>1</td>\n",
       "      <td>101699.77</td>\n",
       "      <td>0</td>\n",
       "    </tr>\n",
       "    <tr>\n",
       "      <th>9997</th>\n",
       "      <td>9998</td>\n",
       "      <td>15584532</td>\n",
       "      <td>Liu</td>\n",
       "      <td>709</td>\n",
       "      <td>France</td>\n",
       "      <td>Female</td>\n",
       "      <td>36</td>\n",
       "      <td>7</td>\n",
       "      <td>0.00</td>\n",
       "      <td>1</td>\n",
       "      <td>0</td>\n",
       "      <td>1</td>\n",
       "      <td>42085.58</td>\n",
       "      <td>1</td>\n",
       "    </tr>\n",
       "    <tr>\n",
       "      <th>9998</th>\n",
       "      <td>9999</td>\n",
       "      <td>15682355</td>\n",
       "      <td>Sabbatini</td>\n",
       "      <td>772</td>\n",
       "      <td>Germany</td>\n",
       "      <td>Male</td>\n",
       "      <td>42</td>\n",
       "      <td>3</td>\n",
       "      <td>75075.31</td>\n",
       "      <td>2</td>\n",
       "      <td>1</td>\n",
       "      <td>0</td>\n",
       "      <td>92888.52</td>\n",
       "      <td>1</td>\n",
       "    </tr>\n",
       "    <tr>\n",
       "      <th>9999</th>\n",
       "      <td>10000</td>\n",
       "      <td>15628319</td>\n",
       "      <td>Walker</td>\n",
       "      <td>792</td>\n",
       "      <td>France</td>\n",
       "      <td>Female</td>\n",
       "      <td>28</td>\n",
       "      <td>4</td>\n",
       "      <td>130142.79</td>\n",
       "      <td>1</td>\n",
       "      <td>1</td>\n",
       "      <td>0</td>\n",
       "      <td>38190.78</td>\n",
       "      <td>0</td>\n",
       "    </tr>\n",
       "  </tbody>\n",
       "</table>\n",
       "</div>"
      ],
      "text/plain": [
       "      RowNumber  CustomerId    Surname  CreditScore Geography  Gender  Age  \\\n",
       "9995       9996    15606229   Obijiaku          771    France    Male   39   \n",
       "9996       9997    15569892  Johnstone          516    France    Male   35   \n",
       "9997       9998    15584532        Liu          709    France  Female   36   \n",
       "9998       9999    15682355  Sabbatini          772   Germany    Male   42   \n",
       "9999      10000    15628319     Walker          792    France  Female   28   \n",
       "\n",
       "      Tenure    Balance  NumOfProducts  HasCrCard  IsActiveMember  \\\n",
       "9995       5       0.00              2          1               0   \n",
       "9996      10   57369.61              1          1               1   \n",
       "9997       7       0.00              1          0               1   \n",
       "9998       3   75075.31              2          1               0   \n",
       "9999       4  130142.79              1          1               0   \n",
       "\n",
       "      EstimatedSalary  Exited  \n",
       "9995         96270.64       0  \n",
       "9996        101699.77       0  \n",
       "9997         42085.58       1  \n",
       "9998         92888.52       1  \n",
       "9999         38190.78       0  "
      ]
     },
     "execution_count": 8,
     "metadata": {},
     "output_type": "execute_result"
    }
   ],
   "source": [
    "#partial view of dataset from bottom\n",
    "dataset.tail(5)"
   ]
  },
  {
   "cell_type": "code",
   "execution_count": 9,
   "metadata": {
    "colab": {
     "base_uri": "https://localhost:8080/"
    },
    "executionInfo": {
     "elapsed": 491,
     "status": "ok",
     "timestamp": 1632059915841,
     "user": {
      "displayName": "senthil nathan",
      "photoUrl": "https://lh3.googleusercontent.com/a-/AOh14Gg1fu6P10GkXHh7-VTbVzv49xOIBnYk2UoXcYu5rg=s64",
      "userId": "05612624721290953067"
     },
     "user_tz": -330
    },
    "id": "mO56eVi6Bjb2",
    "outputId": "5f72705f-0810-4fad-87c0-987fc59270c4"
   },
   "outputs": [
    {
     "name": "stdout",
     "output_type": "stream",
     "text": [
      "<class 'pandas.core.frame.DataFrame'>\n",
      "RangeIndex: 10000 entries, 0 to 9999\n",
      "Data columns (total 14 columns):\n",
      " #   Column           Non-Null Count  Dtype  \n",
      "---  ------           --------------  -----  \n",
      " 0   RowNumber        10000 non-null  int64  \n",
      " 1   CustomerId       10000 non-null  int64  \n",
      " 2   Surname          10000 non-null  object \n",
      " 3   CreditScore      10000 non-null  int64  \n",
      " 4   Geography        10000 non-null  object \n",
      " 5   Gender           10000 non-null  object \n",
      " 6   Age              10000 non-null  int64  \n",
      " 7   Tenure           10000 non-null  int64  \n",
      " 8   Balance          10000 non-null  float64\n",
      " 9   NumOfProducts    10000 non-null  int64  \n",
      " 10  HasCrCard        10000 non-null  int64  \n",
      " 11  IsActiveMember   10000 non-null  int64  \n",
      " 12  EstimatedSalary  10000 non-null  float64\n",
      " 13  Exited           10000 non-null  int64  \n",
      "dtypes: float64(2), int64(9), object(3)\n",
      "memory usage: 1.1+ MB\n"
     ]
    }
   ],
   "source": [
    "#basic dataset information\n",
    "dataset.info()"
   ]
  },
  {
   "cell_type": "code",
   "execution_count": 10,
   "metadata": {
    "colab": {
     "base_uri": "https://localhost:8080/"
    },
    "executionInfo": {
     "elapsed": 416,
     "status": "ok",
     "timestamp": 1632059955635,
     "user": {
      "displayName": "senthil nathan",
      "photoUrl": "https://lh3.googleusercontent.com/a-/AOh14Gg1fu6P10GkXHh7-VTbVzv49xOIBnYk2UoXcYu5rg=s64",
      "userId": "05612624721290953067"
     },
     "user_tz": -330
    },
    "id": "iTjtd4cIBjb2",
    "outputId": "0b2d2327-95c8-4366-e359-f9839f53ee07"
   },
   "outputs": [
    {
     "data": {
      "text/plain": [
       "(10000, 14)"
      ]
     },
     "execution_count": 10,
     "metadata": {},
     "output_type": "execute_result"
    }
   ],
   "source": [
    "#dimention of the dataset\n",
    "dataset.shape"
   ]
  },
  {
   "cell_type": "code",
   "execution_count": 11,
   "metadata": {
    "colab": {
     "base_uri": "https://localhost:8080/"
    },
    "executionInfo": {
     "elapsed": 374,
     "status": "ok",
     "timestamp": 1632060023136,
     "user": {
      "displayName": "senthil nathan",
      "photoUrl": "https://lh3.googleusercontent.com/a-/AOh14Gg1fu6P10GkXHh7-VTbVzv49xOIBnYk2UoXcYu5rg=s64",
      "userId": "05612624721290953067"
     },
     "user_tz": -330
    },
    "id": "pfLRyvKhBjb3",
    "outputId": "391a7f4a-a1e5-4cf3-fb9e-e6e770c21f53"
   },
   "outputs": [
    {
     "name": "stdout",
     "output_type": "stream",
     "text": [
      "Any missing data or NaN in the dataset: False\n"
     ]
    }
   ],
   "source": [
    "#checking for missing values\n",
    "print(str('Any missing data or NaN in the dataset:'),dataset.isnull().values.any())"
   ]
  },
  {
   "cell_type": "code",
   "execution_count": 15,
   "metadata": {
    "colab": {
     "base_uri": "https://localhost:8080/",
     "height": 786
    },
    "executionInfo": {
     "elapsed": 2673,
     "status": "ok",
     "timestamp": 1632054948972,
     "user": {
      "displayName": "senthil nathan",
      "photoUrl": "https://lh3.googleusercontent.com/a-/AOh14Gg1fu6P10GkXHh7-VTbVzv49xOIBnYk2UoXcYu5rg=s64",
      "userId": "05612624721290953067"
     },
     "user_tz": -330
    },
    "id": "ksKi6TK4Bjb5",
    "outputId": "c66ab2b2-f0d8-47dc-eb6a-f3d3832656cf"
   },
   "outputs": [
    {
     "name": "stdout",
     "output_type": "stream",
     "text": [
      "                 RowNumber  CustomerId  ...  EstimatedSalary    Exited\n",
      "RowNumber         1.000000    0.004202  ...        -0.005988 -0.016571\n",
      "CustomerId        0.004202    1.000000  ...         0.015271 -0.006248\n",
      "CreditScore       0.005840    0.005308  ...        -0.001384 -0.027094\n",
      "Age               0.000783    0.009497  ...        -0.007201  0.285323\n",
      "Tenure           -0.006495   -0.014883  ...         0.007784 -0.014001\n",
      "Balance          -0.009067   -0.012419  ...         0.012797  0.118533\n",
      "NumOfProducts     0.007246    0.016972  ...         0.014204 -0.047820\n",
      "HasCrCard         0.000599   -0.014025  ...        -0.009933 -0.007138\n",
      "IsActiveMember    0.012044    0.001665  ...        -0.011421 -0.156128\n",
      "EstimatedSalary  -0.005988    0.015271  ...         1.000000  0.012097\n",
      "Exited           -0.016571   -0.006248  ...         0.012097  1.000000\n",
      "\n",
      "[11 rows x 11 columns]\n"
     ]
    },
    {
     "data": {
      "text/plain": [
       "<matplotlib.axes._subplots.AxesSubplot at 0x7f0f8e038a10>"
      ]
     },
     "execution_count": 15,
     "metadata": {},
     "output_type": "execute_result"
    },
    {
     "data": {
      "image/png": "[encoded data removed]",
      "text/plain": [
       "<Figure size 720x540 with 2 Axes>"
      ]
     },
     "metadata": {
      "needs_background": "light"
     },
     "output_type": "display_data"
    }
   ],
   "source": [
    "#finding correlation between the features\n",
    "import matplotlib.pyplot as plt\n",
    "%matplotlib inline \n",
    "\n",
    "import seaborn as sns\n",
    "\n",
    "corr_var=dataset.corr()\n",
    "print(corr_var)\n",
    "plt.figure(figsize=(10,7.5))\n",
    "sns.heatmap(corr_var, annot=True, cmap='BuPu')"
   ]
  },
  {
   "cell_type": "code",
   "execution_count": 40,
   "metadata": {
    "executionInfo": {
     "elapsed": 355,
     "status": "ok",
     "timestamp": 1632060121722,
     "user": {
      "displayName": "senthil nathan",
      "photoUrl": "https://lh3.googleusercontent.com/a-/AOh14Gg1fu6P10GkXHh7-VTbVzv49xOIBnYk2UoXcYu5rg=s64",
      "userId": "05612624721290953067"
     },
     "user_tz": -330
    },
    "id": "t9l7OZ52Bjb6"
   },
   "outputs": [],
   "source": [
    "X = dataset.iloc[:, 3:-1].values"
   ]
  },
  {
   "cell_type": "code",
   "execution_count": 41,
   "metadata": {
    "executionInfo": {
     "elapsed": 454,
     "status": "ok",
     "timestamp": 1632060125709,
     "user": {
      "displayName": "senthil nathan",
      "photoUrl": "https://lh3.googleusercontent.com/a-/AOh14Gg1fu6P10GkXHh7-VTbVzv49xOIBnYk2UoXcYu5rg=s64",
      "userId": "05612624721290953067"
     },
     "user_tz": -330
    },
    "id": "Pfj2jgkEBjb7"
   },
   "outputs": [],
   "source": [
    "#target value\n",
    "y = dataset.iloc[:, -1].values"
   ]
  },
  {
   "cell_type": "code",
   "execution_count": 42,
   "metadata": {
    "executionInfo": {
     "elapsed": 338,
     "status": "ok",
     "timestamp": 1632060353035,
     "user": {
      "displayName": "senthil nathan",
      "photoUrl": "https://lh3.googleusercontent.com/a-/AOh14Gg1fu6P10GkXHh7-VTbVzv49xOIBnYk2UoXcYu5rg=s64",
      "userId": "05612624721290953067"
     },
     "user_tz": -330
    },
    "id": "3tweKmSrBjb8"
   },
   "outputs": [],
   "source": [
    "#as we have two columns as categorical terms we go for encoding we need to convert to numericals\n",
    "#Categorical encoding\n",
    "#gender will have some correlation with other feature so we go for label encoding\n",
    "from sklearn.preprocessing import LabelEncoder\n",
    "le = LabelEncoder()\n",
    "#gender column in index 2\n",
    "X[:, 2] = le.fit_transform(X[:, 2])"
   ]
  },
  {
   "cell_type": "code",
   "execution_count": 43,
   "metadata": {
    "executionInfo": {
     "elapsed": 434,
     "status": "ok",
     "timestamp": 1632060399031,
     "user": {
      "displayName": "senthil nathan",
      "photoUrl": "https://lh3.googleusercontent.com/a-/AOh14Gg1fu6P10GkXHh7-VTbVzv49xOIBnYk2UoXcYu5rg=s64",
      "userId": "05612624721290953067"
     },
     "user_tz": -330
    },
    "id": "eVALk_q1Bjb9"
   },
   "outputs": [],
   "source": [
    "#country name wont be that much correlation added it has more than 2 names so go for one hot encoding\n",
    "from sklearn.compose import ColumnTransformer\n",
    "from sklearn.preprocessing import OneHotEncoder\n",
    "#country name is present in 1st index value\n",
    "ct = ColumnTransformer(transformers=[('encoder', OneHotEncoder(), [1])], remainder='passthrough')\n",
    "X = np.array(ct.fit_transform(X))"
   ]
  },
  {
   "cell_type": "code",
   "execution_count": 45,
   "metadata": {
    "colab": {
     "base_uri": "https://localhost:8080/"
    },
    "executionInfo": {
     "elapsed": 753,
     "status": "ok",
     "timestamp": 1632060430652,
     "user": {
      "displayName": "senthil nathan",
      "photoUrl": "https://lh3.googleusercontent.com/a-/AOh14Gg1fu6P10GkXHh7-VTbVzv49xOIBnYk2UoXcYu5rg=s64",
      "userId": "05612624721290953067"
     },
     "user_tz": -330
    },
    "id": "t-7IXTePYXTq",
    "outputId": "43333374-b29c-442d-eb54-3530f173c464"
   },
   "outputs": [
    {
     "name": "stdout",
     "output_type": "stream",
     "text": [
      "[[1.0 0.0 0.0 ... 1 1 101348.88]\n",
      " [0.0 0.0 1.0 ... 0 1 112542.58]\n",
      " [1.0 0.0 0.0 ... 1 0 113931.57]\n",
      " ...\n",
      " [1.0 0.0 0.0 ... 0 1 42085.58]\n",
      " [0.0 1.0 0.0 ... 1 0 92888.52]\n",
      " [1.0 0.0 0.0 ... 1 0 38190.78]]\n"
     ]
    }
   ],
   "source": [
    "print(X)"
   ]
  },
  {
   "cell_type": "code",
   "execution_count": 46,
   "metadata": {
    "executionInfo": {
     "elapsed": 340,
     "status": "ok",
     "timestamp": 1632060452104,
     "user": {
      "displayName": "senthil nathan",
      "photoUrl": "https://lh3.googleusercontent.com/a-/AOh14Gg1fu6P10GkXHh7-VTbVzv49xOIBnYk2UoXcYu5rg=s64",
      "userId": "05612624721290953067"
     },
     "user_tz": -330
    },
    "id": "QjRQ5evmBjb-"
   },
   "outputs": [],
   "source": [
    "#training and testing split\n",
    "from sklearn.model_selection import train_test_split\n",
    "X_train, X_test, y_train, y_test = train_test_split(X, y, test_size = 0.3, random_state = 0)"
   ]
  },
  {
   "cell_type": "code",
   "execution_count": 47,
   "metadata": {
    "executionInfo": {
     "elapsed": 336,
     "status": "ok",
     "timestamp": 1632060534060,
     "user": {
      "displayName": "senthil nathan",
      "photoUrl": "https://lh3.googleusercontent.com/a-/AOh14Gg1fu6P10GkXHh7-VTbVzv49xOIBnYk2UoXcYu5rg=s64",
      "userId": "05612624721290953067"
     },
     "user_tz": -330
    },
    "id": "tKXhYTEOBjb_"
   },
   "outputs": [],
   "source": [
    "#feature scaling is an important and mandatory for ann process before modelling\n",
    "from sklearn.preprocessing import StandardScaler\n",
    "sc = StandardScaler()\n",
    "X_train = sc.fit_transform(X_train)\n",
    "X_test = sc.transform(X_test)"
   ]
  },
  {
   "cell_type": "code",
   "execution_count": 48,
   "metadata": {
    "executionInfo": {
     "elapsed": 342,
     "status": "ok",
     "timestamp": 1632060893891,
     "user": {
      "displayName": "senthil nathan",
      "photoUrl": "https://lh3.googleusercontent.com/a-/AOh14Gg1fu6P10GkXHh7-VTbVzv49xOIBnYk2UoXcYu5rg=s64",
      "userId": "05612624721290953067"
     },
     "user_tz": -330
    },
    "id": "CwZDwrmpBjb_"
   },
   "outputs": [],
   "source": [
    "#ANN - initializing\n",
    "ann = tf.keras.models.Sequential()"
   ]
  },
  {
   "cell_type": "code",
   "execution_count": 49,
   "metadata": {
    "executionInfo": {
     "elapsed": 378,
     "status": "ok",
     "timestamp": 1632061088689,
     "user": {
      "displayName": "senthil nathan",
      "photoUrl": "https://lh3.googleusercontent.com/a-/AOh14Gg1fu6P10GkXHh7-VTbVzv49xOIBnYk2UoXcYu5rg=s64",
      "userId": "05612624721290953067"
     },
     "user_tz": -330
    },
    "id": "NBdex2wXBjcA"
   },
   "outputs": [],
   "source": [
    "#input layer\n",
    "# 6 features\n",
    "ann.add(tf.keras.layers.Dense(units=6, activation='relu'))"
   ]
  },
  {
   "cell_type": "code",
   "execution_count": 50,
   "metadata": {
    "executionInfo": {
     "elapsed": 512,
     "status": "ok",
     "timestamp": 1632061124949,
     "user": {
      "displayName": "senthil nathan",
      "photoUrl": "https://lh3.googleusercontent.com/a-/AOh14Gg1fu6P10GkXHh7-VTbVzv49xOIBnYk2UoXcYu5rg=s64",
      "userId": "05612624721290953067"
     },
     "user_tz": -330
    },
    "id": "9JlTUJs8BjcB"
   },
   "outputs": [],
   "source": [
    "#hidden layer\n",
    "ann.add(tf.keras.layers.Dense(units=6, activation='relu'))"
   ]
  },
  {
   "cell_type": "code",
   "execution_count": 51,
   "metadata": {
    "executionInfo": {
     "elapsed": 343,
     "status": "ok",
     "timestamp": 1632061177229,
     "user": {
      "displayName": "senthil nathan",
      "photoUrl": "https://lh3.googleusercontent.com/a-/AOh14Gg1fu6P10GkXHh7-VTbVzv49xOIBnYk2UoXcYu5rg=s64",
      "userId": "05612624721290953067"
     },
     "user_tz": -330
    },
    "id": "DyaMY4BfBjcB"
   },
   "outputs": [],
   "source": [
    "#output layer\n",
    "#as target value is binary - AF\n",
    "ann.add(tf.keras.layers.Dense(units=1, activation='sigmoid'))"
   ]
  },
  {
   "cell_type": "code",
   "execution_count": 52,
   "metadata": {
    "executionInfo": {
     "elapsed": 394,
     "status": "ok",
     "timestamp": 1632061263979,
     "user": {
      "displayName": "senthil nathan",
      "photoUrl": "https://lh3.googleusercontent.com/a-/AOh14Gg1fu6P10GkXHh7-VTbVzv49xOIBnYk2UoXcYu5rg=s64",
      "userId": "05612624721290953067"
     },
     "user_tz": -330
    },
    "id": "pLfH-UvQBjcB"
   },
   "outputs": [],
   "source": [
    "#compiling\n",
    "#loss - target is binary \n",
    "ann.compile(optimizer = 'adam', loss = 'binary_crossentropy', metrics = ['accuracy'])"
   ]
  },
  {
   "cell_type": "code",
   "execution_count": 54,
   "metadata": {
    "colab": {
     "base_uri": "https://localhost:8080/"
    },
    "executionInfo": {
     "elapsed": 6445,
     "status": "ok",
     "timestamp": 1632061438702,
     "user": {
      "displayName": "senthil nathan",
      "photoUrl": "https://lh3.googleusercontent.com/a-/AOh14Gg1fu6P10GkXHh7-VTbVzv49xOIBnYk2UoXcYu5rg=s64",
      "userId": "05612624721290953067"
     },
     "user_tz": -330
    },
    "id": "yhO5ehAqBjcC",
    "outputId": "0c144c63-4b5b-4647-ca14-f6a6f6bde344"
   },
   "outputs": [
    {
     "name": "stdout",
     "output_type": "stream",
     "text": [
      "Epoch 1/20\n",
      "219/219 [==============================] - 0s 1ms/step - loss: 0.3434 - accuracy: 0.8606\n",
      "Epoch 2/20\n",
      "219/219 [==============================] - 0s 1ms/step - loss: 0.3424 - accuracy: 0.8610\n",
      "Epoch 3/20\n",
      "219/219 [==============================] - 0s 1ms/step - loss: 0.3420 - accuracy: 0.8620\n",
      "Epoch 4/20\n",
      "219/219 [==============================] - 0s 1ms/step - loss: 0.3417 - accuracy: 0.8629\n",
      "Epoch 5/20\n",
      "219/219 [==============================] - 0s 1ms/step - loss: 0.3411 - accuracy: 0.8620\n",
      "Epoch 6/20\n",
      "219/219 [==============================] - 0s 1ms/step - loss: 0.3405 - accuracy: 0.8610\n",
      "Epoch 7/20\n",
      "219/219 [==============================] - 0s 1ms/step - loss: 0.3405 - accuracy: 0.8629\n",
      "Epoch 8/20\n",
      "219/219 [==============================] - 0s 1ms/step - loss: 0.3399 - accuracy: 0.8624\n",
      "Epoch 9/20\n",
      "219/219 [==============================] - 0s 1ms/step - loss: 0.3397 - accuracy: 0.8610\n",
      "Epoch 10/20\n",
      "219/219 [==============================] - 0s 1ms/step - loss: 0.3396 - accuracy: 0.8627\n",
      "Epoch 11/20\n",
      "219/219 [==============================] - 0s 1ms/step - loss: 0.3394 - accuracy: 0.8616\n",
      "Epoch 12/20\n",
      "219/219 [==============================] - 0s 1ms/step - loss: 0.3388 - accuracy: 0.8599\n",
      "Epoch 13/20\n",
      "219/219 [==============================] - 0s 1ms/step - loss: 0.3387 - accuracy: 0.8611\n",
      "Epoch 14/20\n",
      "219/219 [==============================] - 0s 1ms/step - loss: 0.3386 - accuracy: 0.8616\n",
      "Epoch 15/20\n",
      "219/219 [==============================] - 0s 1ms/step - loss: 0.3386 - accuracy: 0.8641\n",
      "Epoch 16/20\n",
      "219/219 [==============================] - 0s 1ms/step - loss: 0.3379 - accuracy: 0.8617\n",
      "Epoch 17/20\n",
      "219/219 [==============================] - 0s 2ms/step - loss: 0.3379 - accuracy: 0.8620\n",
      "Epoch 18/20\n",
      "219/219 [==============================] - 0s 1ms/step - loss: 0.3376 - accuracy: 0.8629\n",
      "Epoch 19/20\n",
      "219/219 [==============================] - 0s 1ms/step - loss: 0.3367 - accuracy: 0.8614\n",
      "Epoch 20/20\n",
      "219/219 [==============================] - 0s 1ms/step - loss: 0.3373 - accuracy: 0.8606\n"
     ]
    },
    {
     "data": {
      "text/plain": [
       "<keras.callbacks.History at 0x7f0f26202150>"
      ]
     },
     "execution_count": 54,
     "metadata": {},
     "output_type": "execute_result"
    }
   ],
   "source": [
    "#training set\n",
    "ann.fit(X_train, y_train, batch_size = 32, epochs = 50)"
   ]
  },
  {
   "cell_type": "code",
   "execution_count": 55,
   "metadata": {
    "executionInfo": {
     "elapsed": 431,
     "status": "ok",
     "timestamp": 1632061472809,
     "user": {
      "displayName": "senthil nathan",
      "photoUrl": "https://lh3.googleusercontent.com/a-/AOh14Gg1fu6P10GkXHh7-VTbVzv49xOIBnYk2UoXcYu5rg=s64",
      "userId": "05612624721290953067"
     },
     "user_tz": -330
    },
    "id": "r5K4u7XbBjcD"
   },
   "outputs": [],
   "source": [
    "# prediction\n",
    "y_pred = ann.predict(X_test)"
   ]
  },
  {
   "cell_type": "code",
   "execution_count": 56,
   "metadata": {
    "colab": {
     "base_uri": "https://localhost:8080/"
    },
    "executionInfo": {
     "elapsed": 332,
     "status": "ok",
     "timestamp": 1632061492489,
     "user": {
      "displayName": "senthil nathan",
      "photoUrl": "https://lh3.googleusercontent.com/a-/AOh14Gg1fu6P10GkXHh7-VTbVzv49xOIBnYk2UoXcYu5rg=s64",
      "userId": "05612624721290953067"
     },
     "user_tz": -330
    },
    "id": "ey7SCOD8BjcD",
    "outputId": "32a67ee4-903c-4fea-c3d1-a5174ba0a107"
   },
   "outputs": [
    {
     "name": "stdout",
     "output_type": "stream",
     "text": [
      "[[0 0]\n",
      " [0 1]\n",
      " [0 0]\n",
      " ...\n",
      " [0 0]\n",
      " [0 0]\n",
      " [1 1]]\n"
     ]
    }
   ],
   "source": [
    "#insted of values we ll get 0 or 1\n",
    "y_pred = (y_pred > 0.5)\n",
    "#actual vs prediicted outputs\n",
    "print(np.concatenate((y_pred.reshape(len(y_pred),1), y_test.reshape(len(y_test),1)),1))"
   ]
  },
  {
   "cell_type": "code",
   "execution_count": 57,
   "metadata": {
    "colab": {
     "base_uri": "https://localhost:8080/"
    },
    "executionInfo": {
     "elapsed": 386,
     "status": "ok",
     "timestamp": 1632061510497,
     "user": {
      "displayName": "senthil nathan",
      "photoUrl": "https://lh3.googleusercontent.com/a-/AOh14Gg1fu6P10GkXHh7-VTbVzv49xOIBnYk2UoXcYu5rg=s64",
      "userId": "05612624721290953067"
     },
     "user_tz": -330
    },
    "id": "MUg-SVi5BjcD",
    "outputId": "5f589eb1-3829-49e7-e9c1-b69221d97be2"
   },
   "outputs": [
    {
     "name": "stdout",
     "output_type": "stream",
     "text": [
      "[[2257  122]\n",
      " [ 295  326]]\n"
     ]
    },
    {
     "data": {
      "text/plain": [
       "0.861"
      ]
     },
     "execution_count": 57,
     "metadata": {},
     "output_type": "execute_result"
    }
   ],
   "source": [
    "#accuracy and confusion matrix\n",
    "\n",
    "from sklearn.metrics import confusion_matrix, accuracy_score\n",
    "cm = confusion_matrix(y_test, y_pred)\n",
    "print(cm)\n",
    "accuracy_score(y_test, y_pred)"
   ]
  },
  {
   "cell_type": "code",
   "execution_count": null,
   "metadata": {
    "id": "oaRTd6KIBjcE"
   },
   "outputs": [],
   "source": []
  }
 ],
 "metadata": {
  "colab": {
   "name": "AIML - ANN.ipynb",
   "provenance": []
  },
  "kernelspec": {
   "display_name": "Python 3",
   "language": "python",
   "name": "python3"
  },
  "language_info": {
   "codemirror_mode": {
    "name": "ipython",
    "version": 3
   },
   "file_extension": ".py",
   "mimetype": "text/x-python",
   "name": "python",
   "nbconvert_exporter": "python",
   "pygments_lexer": "ipython3",
   "version": "3.8.8"
  }
 },
 "nbformat": 4,
 "nbformat_minor": 4
}
