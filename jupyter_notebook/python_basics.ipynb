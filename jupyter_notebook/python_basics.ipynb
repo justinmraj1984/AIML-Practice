{
 "cells": [
  {
   "cell_type": "code",
   "execution_count": 1,
   "id": "d9de8884-c151-42dc-9f53-e75b481f292d",
   "metadata": {},
   "outputs": [],
   "source": [
    "# basic data types and variables"
   ]
  },
  {
   "cell_type": "code",
   "execution_count": 2,
   "id": "b7a95123-e072-4c33-850f-aa2367f9271c",
   "metadata": {},
   "outputs": [],
   "source": [
    "x = 12"
   ]
  },
  {
   "cell_type": "code",
   "execution_count": 3,
   "id": "cf2a8cb3-d04a-49f1-81ef-3621d519c87b",
   "metadata": {},
   "outputs": [
    {
     "name": "stdout",
     "output_type": "stream",
     "text": [
      "12\n"
     ]
    }
   ],
   "source": [
    "print(x)"
   ]
  },
  {
   "cell_type": "code",
   "execution_count": 4,
   "id": "f19a28b3-e508-4540-b97f-ce48bc77d69a",
   "metadata": {},
   "outputs": [
    {
     "name": "stdout",
     "output_type": "stream",
     "text": [
      "Hello World!\n"
     ]
    }
   ],
   "source": [
    "strMsg = \"Hello World!\"\n",
    "print(strMsg);"
   ]
  },
  {
   "cell_type": "code",
   "execution_count": 6,
   "id": "53ce2de8-8244-484e-88ea-7533f0902022",
   "metadata": {},
   "outputs": [
    {
     "name": "stdout",
     "output_type": "stream",
     "text": [
      "True\n"
     ]
    }
   ],
   "source": [
    "booleanVal = True\n",
    "print (booleanVal);"
   ]
  },
  {
   "cell_type": "code",
   "execution_count": 7,
   "id": "f1f9219d-38bd-4806-a040-85f1704feae9",
   "metadata": {},
   "outputs": [
    {
     "name": "stdout",
     "output_type": "stream",
     "text": [
      "None\n"
     ]
    }
   ],
   "source": [
    "noneVal = None\n",
    "print(noneVal)"
   ]
  },
  {
   "cell_type": "code",
   "execution_count": 12,
   "id": "6413b964-d885-4346-b53e-2bdd1b37f1ae",
   "metadata": {},
   "outputs": [
    {
     "name": "stdout",
     "output_type": "stream",
     "text": [
      "25.0\n"
     ]
    }
   ],
   "source": [
    "a = 20\n",
    "b = 30\n",
    "c = (a + b)/2\n",
    "print(c)"
   ]
  },
  {
   "cell_type": "code",
   "execution_count": 14,
   "id": "42250957-452a-4ee4-ada5-6ea3dcd3ed83",
   "metadata": {
    "slideshow": {
     "slide_type": "slide"
    },
    "tags": [
     "python"
    ]
   },
   "outputs": [
    {
     "name": "stdout",
     "output_type": "stream",
     "text": [
      "2021-08-18 19:28:21.963314\n"
     ]
    }
   ],
   "source": [
    "import datetime\n",
    "currentDate = datetime.datetime.now()\n",
    "print(currentDate)"
   ]
  },
  {
   "cell_type": "code",
   "execution_count": 38,
   "id": "bf8d1a13-91a8-4b75-bee7-fe88463e2d11",
   "metadata": {},
   "outputs": [],
   "source": [
    "# list data type in python - 1 dimensional array - any data type can be added as element in the list"
   ]
  },
  {
   "cell_type": "code",
   "execution_count": 25,
   "id": "9c62fd22-8584-4efd-a370-51e2b2752dbe",
   "metadata": {},
   "outputs": [],
   "source": [
    "list = [10, 'twenty', 30.001, \"happy learning day\"]"
   ]
  },
  {
   "cell_type": "code",
   "execution_count": 26,
   "id": "2aacbf5c-ab2a-49d5-9d01-c5bfc33d0ae9",
   "metadata": {},
   "outputs": [
    {
     "data": {
      "text/plain": [
       "[10, 'twenty', 30.001, 'happy learning day']"
      ]
     },
     "execution_count": 26,
     "metadata": {},
     "output_type": "execute_result"
    }
   ],
   "source": [
    "list"
   ]
  },
  {
   "cell_type": "code",
   "execution_count": 27,
   "id": "3c158f5e-91b9-4350-b46b-dc4335692355",
   "metadata": {},
   "outputs": [
    {
     "data": {
      "text/plain": [
       "10"
      ]
     },
     "execution_count": 27,
     "metadata": {},
     "output_type": "execute_result"
    }
   ],
   "source": [
    "# list index starts with 0\n",
    "list[0]"
   ]
  },
  {
   "cell_type": "code",
   "execution_count": 28,
   "id": "30acccf4-f49c-40eb-b466-d3b50590b7e5",
   "metadata": {},
   "outputs": [
    {
     "data": {
      "text/plain": [
       "'happy learning day'"
      ]
     },
     "execution_count": 28,
     "metadata": {},
     "output_type": "execute_result"
    }
   ],
   "source": [
    "# list index -1 points to the last element in the list\n",
    "list[-1]"
   ]
  },
  {
   "cell_type": "code",
   "execution_count": 42,
   "id": "e18ae7a0-573b-4c87-84a4-43b5d72b0a42",
   "metadata": {},
   "outputs": [],
   "source": [
    "# New values can be added into the list anytime\n",
    "# Adding a value to the list"
   ]
  },
  {
   "cell_type": "code",
   "execution_count": 32,
   "id": "ee3eccfa-970d-4014-bf25-3c7a0bc039cd",
   "metadata": {},
   "outputs": [],
   "source": [
    "list.append(1000)"
   ]
  },
  {
   "cell_type": "code",
   "execution_count": 33,
   "id": "ccc0abda-495c-487f-b6bb-06081bf8ff06",
   "metadata": {},
   "outputs": [
    {
     "data": {
      "text/plain": [
       "[10, 'twenty', 30.001, 'happy learning day', 1000]"
      ]
     },
     "execution_count": 33,
     "metadata": {},
     "output_type": "execute_result"
    }
   ],
   "source": [
    "list"
   ]
  },
  {
   "cell_type": "code",
   "execution_count": 35,
   "id": "e75080e3-1a31-43fa-acab-bb9b77aa08a2",
   "metadata": {},
   "outputs": [],
   "source": [
    "list.append(True)"
   ]
  },
  {
   "cell_type": "code",
   "execution_count": 36,
   "id": "c92ce2fb-c80c-42dd-95bb-cdc870e71bf6",
   "metadata": {},
   "outputs": [
    {
     "data": {
      "text/plain": [
       "[10, 'twenty', 30.001, 'happy learning day', 1000, True]"
      ]
     },
     "execution_count": 36,
     "metadata": {},
     "output_type": "execute_result"
    }
   ],
   "source": [
    "list"
   ]
  },
  {
   "cell_type": "code",
   "execution_count": 39,
   "id": "98a19c7f-8b33-4d21-a8b5-ad94944b0209",
   "metadata": {},
   "outputs": [],
   "source": [
    "list.append(currentDate)"
   ]
  },
  {
   "cell_type": "code",
   "execution_count": 40,
   "id": "ef8a6d6f-ef65-43d3-ac88-84e83471ac89",
   "metadata": {},
   "outputs": [
    {
     "data": {
      "text/plain": [
       "[10,\n",
       " 'twenty',\n",
       " 30.001,\n",
       " 'happy learning day',\n",
       " 1000,\n",
       " True,\n",
       " datetime.datetime(2021, 8, 18, 19, 28, 21, 963314)]"
      ]
     },
     "execution_count": 40,
     "metadata": {},
     "output_type": "execute_result"
    }
   ],
   "source": [
    "list"
   ]
  },
  {
   "cell_type": "code",
   "execution_count": null,
   "id": "097c1f57-875a-46b2-9aab-612ef223e52c",
   "metadata": {},
   "outputs": [],
   "source": []
  }
 ],
 "metadata": {
  "kernelspec": {
   "display_name": "Python 3",
   "language": "python",
   "name": "python3"
  },
  "language_info": {
   "codemirror_mode": {
    "name": "ipython",
    "version": 3
   },
   "file_extension": ".py",
   "mimetype": "text/x-python",
   "name": "python",
   "nbconvert_exporter": "python",
   "pygments_lexer": "ipython3",
   "version": "3.8.11"
  }
 },
 "nbformat": 4,
 "nbformat_minor": 5
}
