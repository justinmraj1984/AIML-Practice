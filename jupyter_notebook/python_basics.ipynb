{
 "cells": [
  {
   "cell_type": "code",
   "execution_count": 1,
   "id": "d9de8884-c151-42dc-9f53-e75b481f292d",
   "metadata": {},
   "outputs": [],
   "source": [
    "# basic data types and variables"
   ]
  },
  {
   "cell_type": "code",
   "execution_count": 2,
   "id": "b7a95123-e072-4c33-850f-aa2367f9271c",
   "metadata": {},
   "outputs": [],
   "source": [
    "x = 12"
   ]
  },
  {
   "cell_type": "code",
   "execution_count": 3,
   "id": "cf2a8cb3-d04a-49f1-81ef-3621d519c87b",
   "metadata": {},
   "outputs": [
    {
     "name": "stdout",
     "output_type": "stream",
     "text": [
      "12\n"
     ]
    }
   ],
   "source": [
    "print(x)"
   ]
  },
  {
   "cell_type": "code",
   "execution_count": 4,
   "id": "f19a28b3-e508-4540-b97f-ce48bc77d69a",
   "metadata": {},
   "outputs": [
    {
     "name": "stdout",
     "output_type": "stream",
     "text": [
      "Hello World!\n"
     ]
    }
   ],
   "source": [
    "strMsg = \"Hello World!\"\n",
    "print(strMsg);"
   ]
  },
  {
   "cell_type": "code",
   "execution_count": 6,
   "id": "53ce2de8-8244-484e-88ea-7533f0902022",
   "metadata": {},
   "outputs": [
    {
     "name": "stdout",
     "output_type": "stream",
     "text": [
      "True\n"
     ]
    }
   ],
   "source": [
    "booleanVal = True\n",
    "print (booleanVal);"
   ]
  },
  {
   "cell_type": "code",
   "execution_count": 7,
   "id": "f1f9219d-38bd-4806-a040-85f1704feae9",
   "metadata": {},
   "outputs": [
    {
     "name": "stdout",
     "output_type": "stream",
     "text": [
      "None\n"
     ]
    }
   ],
   "source": [
    "noneVal = None\n",
    "print(noneVal)"
   ]
  },
  {
   "cell_type": "code",
   "execution_count": 12,
   "id": "6413b964-d885-4346-b53e-2bdd1b37f1ae",
   "metadata": {},
   "outputs": [
    {
     "name": "stdout",
     "output_type": "stream",
     "text": [
      "25.0\n"
     ]
    }
   ],
   "source": [
    "a = 20\n",
    "b = 30\n",
    "c = (a + b)/2\n",
    "print(c)"
   ]
  },
  {
   "cell_type": "code",
   "execution_count": null,
   "id": "1c52cb10-db71-4eac-81b5-57cc68a3a9ba",
   "metadata": {
    "slideshow": {
     "slide_type": "slide"
    },
    "tags": [
     "python"
    ]
   },
   "outputs": [],
   "source": [
    "import datetime\n",
    "currentDate = datetime.datetime.now()\n",
    "print(currentDate)"
   ]
  },
  {
   "cell_type": "code",
   "execution_count": 38,
   "id": "bf8d1a13-91a8-4b75-bee7-fe88463e2d11",
   "metadata": {},
   "outputs": [],
   "source": [
    "# list data type in python - 1 dimensional array - any data type can be added as element in the list"
   ]
  },
  {
   "cell_type": "code",
   "execution_count": 72,
   "id": "9c62fd22-8584-4efd-a370-51e2b2752dbe",
   "metadata": {},
   "outputs": [],
   "source": [
    "mylist = [10, 'twenty', 30.001, \"happy learning day\"]"
   ]
  },
  {
   "cell_type": "code",
   "execution_count": 73,
   "id": "2aacbf5c-ab2a-49d5-9d01-c5bfc33d0ae9",
   "metadata": {},
   "outputs": [
    {
     "data": {
      "text/plain": [
       "[10, 'twenty', 30.001, 'happy learning day']"
      ]
     },
     "execution_count": 73,
     "metadata": {},
     "output_type": "execute_result"
    }
   ],
   "source": [
    "mylist"
   ]
  },
  {
   "cell_type": "code",
   "execution_count": 74,
   "id": "3c158f5e-91b9-4350-b46b-dc4335692355",
   "metadata": {},
   "outputs": [
    {
     "data": {
      "text/plain": [
       "10"
      ]
     },
     "execution_count": 74,
     "metadata": {},
     "output_type": "execute_result"
    }
   ],
   "source": [
    "# list index starts with 0\n",
    "mylist[0]"
   ]
  },
  {
   "cell_type": "code",
   "execution_count": 75,
   "id": "30acccf4-f49c-40eb-b466-d3b50590b7e5",
   "metadata": {},
   "outputs": [
    {
     "data": {
      "text/plain": [
       "'happy learning day'"
      ]
     },
     "execution_count": 75,
     "metadata": {},
     "output_type": "execute_result"
    }
   ],
   "source": [
    "# list index -1 points to the last element in the list\n",
    "mylist[-1]"
   ]
  },
  {
   "cell_type": "code",
   "execution_count": 42,
   "id": "e18ae7a0-573b-4c87-84a4-43b5d72b0a42",
   "metadata": {},
   "outputs": [],
   "source": [
    "# New values can be added into the list anytime\n",
    "# Adding a value to the list"
   ]
  },
  {
   "cell_type": "code",
   "execution_count": 76,
   "id": "ee3eccfa-970d-4014-bf25-3c7a0bc039cd",
   "metadata": {},
   "outputs": [],
   "source": [
    "mylist.append(1000)"
   ]
  },
  {
   "cell_type": "code",
   "execution_count": 77,
   "id": "ccc0abda-495c-487f-b6bb-06081bf8ff06",
   "metadata": {},
   "outputs": [
    {
     "data": {
      "text/plain": [
       "[10, 'twenty', 30.001, 'happy learning day', 1000]"
      ]
     },
     "execution_count": 77,
     "metadata": {},
     "output_type": "execute_result"
    }
   ],
   "source": [
    "mylist"
   ]
  },
  {
   "cell_type": "code",
   "execution_count": 78,
   "id": "e75080e3-1a31-43fa-acab-bb9b77aa08a2",
   "metadata": {},
   "outputs": [],
   "source": [
    "mylist.append(True)"
   ]
  },
  {
   "cell_type": "code",
   "execution_count": 79,
   "id": "c92ce2fb-c80c-42dd-95bb-cdc870e71bf6",
   "metadata": {},
   "outputs": [
    {
     "data": {
      "text/plain": [
       "[10, 'twenty', 30.001, 'happy learning day', 1000, True]"
      ]
     },
     "execution_count": 79,
     "metadata": {},
     "output_type": "execute_result"
    }
   ],
   "source": [
    "mylist"
   ]
  },
  {
   "cell_type": "code",
   "execution_count": 80,
   "id": "98a19c7f-8b33-4d21-a8b5-ad94944b0209",
   "metadata": {},
   "outputs": [],
   "source": [
    "mylist.append(currentDate)"
   ]
  },
  {
   "cell_type": "code",
   "execution_count": 81,
   "id": "ef8a6d6f-ef65-43d3-ac88-84e83471ac89",
   "metadata": {},
   "outputs": [
    {
     "data": {
      "text/plain": [
       "[10,\n",
       " 'twenty',\n",
       " 30.001,\n",
       " 'happy learning day',\n",
       " 1000,\n",
       " True,\n",
       " datetime.datetime(2021, 8, 18, 19, 28, 21, 963314)]"
      ]
     },
     "execution_count": 81,
     "metadata": {},
     "output_type": "execute_result"
    }
   ],
   "source": [
    "mylist"
   ]
  },
  {
   "cell_type": "code",
   "execution_count": 82,
   "id": "097c1f57-875a-46b2-9aab-612ef223e52c",
   "metadata": {},
   "outputs": [
    {
     "data": {
      "text/plain": [
       "7"
      ]
     },
     "execution_count": 82,
     "metadata": {},
     "output_type": "execute_result"
    }
   ],
   "source": [
    "len(mylist)"
   ]
  },
  {
   "cell_type": "code",
   "execution_count": 83,
   "id": "4fade770-7983-43b8-b245-3ba635d5e128",
   "metadata": {},
   "outputs": [
    {
     "name": "stdout",
     "output_type": "stream",
     "text": [
      "[10, 'twenty', 30.001, 'happy learning day', 1000, True, datetime.datetime(2021, 8, 18, 19, 28, 21, 963314)]\n"
     ]
    }
   ],
   "source": [
    "print(mylist)"
   ]
  },
  {
   "cell_type": "code",
   "execution_count": 45,
   "id": "cd46dfb6-106d-489c-a359-56ccb0eb77f3",
   "metadata": {},
   "outputs": [],
   "source": [
    "# iterating a list value and print them"
   ]
  },
  {
   "cell_type": "code",
   "execution_count": 84,
   "id": "5e45e466-9c36-4e0c-8f68-9add88b85a39",
   "metadata": {},
   "outputs": [
    {
     "name": "stdout",
     "output_type": "stream",
     "text": [
      "10\n",
      "twenty\n",
      "30.001\n",
      "happy learning day\n",
      "1000\n",
      "True\n",
      "2021-08-18 19:28:21.963314\n"
     ]
    }
   ],
   "source": [
    "for x in mylist:\n",
    "    print (x)"
   ]
  },
  {
   "cell_type": "code",
   "execution_count": 85,
   "id": "0c2d4178-ceee-4f08-b839-742d1ff96c62",
   "metadata": {},
   "outputs": [
    {
     "name": "stdout",
     "output_type": "stream",
     "text": [
      "mylist[ 0 ] :  10\n",
      "mylist[ 1 ] :  twenty\n",
      "mylist[ 2 ] :  30.001\n",
      "mylist[ 3 ] :  happy learning day\n",
      "mylist[ 4 ] :  1000\n",
      "mylist[ 5 ] :  True\n",
      "mylist[ 6 ] :  2021-08-18 19:28:21.963314\n"
     ]
    }
   ],
   "source": [
    "for i in range(len(mylist)):\n",
    "    print(\"mylist[\" , i , \"] : \" , mylist[i])\n"
   ]
  },
  {
   "cell_type": "code",
   "execution_count": 54,
   "id": "e390e6e9-f000-4f89-8b9c-b09dc7aa8252",
   "metadata": {},
   "outputs": [],
   "source": [
    "# function - accept any number of params and return one value"
   ]
  },
  {
   "cell_type": "code",
   "execution_count": 57,
   "id": "8f0d7732-f08d-45b4-a703-0f525522c517",
   "metadata": {},
   "outputs": [],
   "source": [
    "def sum (a, b, c):\n",
    "    return (a + b + c)"
   ]
  },
  {
   "cell_type": "code",
   "execution_count": 58,
   "id": "3839dca9-c027-44f6-b5ce-7e40b2f12b91",
   "metadata": {},
   "outputs": [
    {
     "data": {
      "text/plain": [
       "6"
      ]
     },
     "execution_count": 58,
     "metadata": {},
     "output_type": "execute_result"
    }
   ],
   "source": [
    "sum(1, 2, 3)"
   ]
  },
  {
   "cell_type": "code",
   "execution_count": 67,
   "id": "1e268c06-a49c-41a4-b650-a3fdbcf799fc",
   "metadata": {},
   "outputs": [],
   "source": [
    "# tuple - similar to list, but cannot be changed after the list is defined\n",
    "# accessing the values from a tuple is similar to list\n",
    "# tuple data type is mainly used to store a list of values which must not change during the runtime"
   ]
  },
  {
   "cell_type": "code",
   "execution_count": 62,
   "id": "1552b681-0044-4c95-874a-82a8a3322ac7",
   "metadata": {},
   "outputs": [],
   "source": [
    "tup = (1, 2, 3, \"abc\")"
   ]
  },
  {
   "cell_type": "code",
   "execution_count": 63,
   "id": "21ed0593-efd9-4ccd-b116-cecf07fb1b88",
   "metadata": {},
   "outputs": [
    {
     "data": {
      "text/plain": [
       "(1, 2, 3, 'abc')"
      ]
     },
     "execution_count": 63,
     "metadata": {},
     "output_type": "execute_result"
    }
   ],
   "source": [
    "tup"
   ]
  },
  {
   "cell_type": "code",
   "execution_count": 64,
   "id": "594efa0d-d31d-489c-85ff-d633e874a43c",
   "metadata": {},
   "outputs": [
    {
     "data": {
      "text/plain": [
       "1"
      ]
     },
     "execution_count": 64,
     "metadata": {},
     "output_type": "execute_result"
    }
   ],
   "source": [
    "tup[0]"
   ]
  },
  {
   "cell_type": "code",
   "execution_count": 65,
   "id": "dfdb1cff-e635-4fd3-a100-c7e89825c166",
   "metadata": {},
   "outputs": [
    {
     "data": {
      "text/plain": [
       "'abc'"
      ]
     },
     "execution_count": 65,
     "metadata": {},
     "output_type": "execute_result"
    }
   ],
   "source": [
    "tup[-1]"
   ]
  },
  {
   "cell_type": "code",
   "execution_count": 97,
   "id": "b284461f-62da-4921-ba7c-182143f07e2f",
   "metadata": {},
   "outputs": [],
   "source": [
    "# Dictionary datatype is used to store key value pairs"
   ]
  },
  {
   "cell_type": "code",
   "execution_count": 99,
   "id": "c58020b8-3129-449f-88eb-60979f946f14",
   "metadata": {},
   "outputs": [],
   "source": [
    "dict1 = {}\n",
    "dict1['name'] = 'Justin'\n",
    "dict1['email'] = 'jmr@gmail.com'\n",
    "dict1['dob'] = '19-Aug-1984'"
   ]
  },
  {
   "cell_type": "code",
   "execution_count": 100,
   "id": "dd929ba1-49d8-422d-8860-5bd4de60a24c",
   "metadata": {},
   "outputs": [
    {
     "data": {
      "text/plain": [
       "{'name': 'Justin', 'email': 'jmr@gmail.com', 'dob': '19-Aug-1984'}"
      ]
     },
     "execution_count": 100,
     "metadata": {},
     "output_type": "execute_result"
    }
   ],
   "source": [
    "dict1"
   ]
  },
  {
   "cell_type": "code",
   "execution_count": 102,
   "id": "20c750d8-82a0-4cfe-a827-c94c938d0adb",
   "metadata": {},
   "outputs": [
    {
     "data": {
      "text/plain": [
       "dict_items([('name', 'Justin'), ('email', 'jmr@gmail.com'), ('dob', '19-Aug-1984')])"
      ]
     },
     "execution_count": 102,
     "metadata": {},
     "output_type": "execute_result"
    }
   ],
   "source": [
    "dict1.items()"
   ]
  },
  {
   "cell_type": "code",
   "execution_count": 104,
   "id": "de486a46-de9c-4afa-97b7-bb1bf95b7540",
   "metadata": {},
   "outputs": [
    {
     "data": {
      "text/plain": [
       "dict_keys(['name', 'email', 'dob'])"
      ]
     },
     "execution_count": 104,
     "metadata": {},
     "output_type": "execute_result"
    }
   ],
   "source": [
    "dict1.keys()"
   ]
  },
  {
   "cell_type": "code",
   "execution_count": 105,
   "id": "83c4dc6d-2515-4c08-a5c9-7b7e88f8ca4f",
   "metadata": {},
   "outputs": [
    {
     "data": {
      "text/plain": [
       "dict_values(['Justin', 'jmr@gmail.com', '19-Aug-1984'])"
      ]
     },
     "execution_count": 105,
     "metadata": {},
     "output_type": "execute_result"
    }
   ],
   "source": [
    "dict1.values()"
   ]
  },
  {
   "cell_type": "code",
   "execution_count": 106,
   "id": "96992afc-d3cf-49fa-803e-da8089b617c2",
   "metadata": {},
   "outputs": [],
   "source": [
    "# iterating a dictionary using for loop"
   ]
  },
  {
   "cell_type": "code",
   "execution_count": 107,
   "id": "d4306e35-be96-47eb-9ac4-ad9db7d8261f",
   "metadata": {},
   "outputs": [
    {
     "name": "stdout",
     "output_type": "stream",
     "text": [
      "name Justin\n",
      "email jmr@gmail.com\n",
      "dob 19-Aug-1984\n"
     ]
    }
   ],
   "source": [
    "for key, value in dict1.items():\n",
    "    print(key, value)"
   ]
  },
  {
   "cell_type": "code",
   "execution_count": 108,
   "id": "0de685f2-f27e-43a2-b465-e918d4434c0a",
   "metadata": {},
   "outputs": [],
   "source": [
    "dict1[\"country\"]=\"India\""
   ]
  },
  {
   "cell_type": "code",
   "execution_count": 109,
   "id": "159da3c1-39e5-41e9-bf94-5f5ab6f96eba",
   "metadata": {},
   "outputs": [
    {
     "data": {
      "text/plain": [
       "{'name': 'Justin',\n",
       " 'email': 'jmr@gmail.com',\n",
       " 'dob': '19-Aug-1984',\n",
       " 'country': 'India'}"
      ]
     },
     "execution_count": 109,
     "metadata": {},
     "output_type": "execute_result"
    }
   ],
   "source": [
    "dict1"
   ]
  },
  {
   "cell_type": "code",
   "execution_count": 110,
   "id": "09e52639-922b-475d-9c36-b671d84ce263",
   "metadata": {},
   "outputs": [
    {
     "data": {
      "text/plain": [
       "4"
      ]
     },
     "execution_count": 110,
     "metadata": {},
     "output_type": "execute_result"
    }
   ],
   "source": [
    "len(dict1)"
   ]
  },
  {
   "cell_type": "code",
   "execution_count": 111,
   "id": "fbc6a108-cadd-45ad-b78f-c3167687127c",
   "metadata": {},
   "outputs": [],
   "source": [
    "# Lambda function\n",
    "# Lambda is similar to function without a name\n",
    "# it can accept any number of input params, but can contain only one expression within itself and returns the result of that expression"
   ]
  },
  {
   "cell_type": "code",
   "execution_count": 124,
   "id": "689fb5d4-98f4-4acd-a43e-ea580b2ac34d",
   "metadata": {},
   "outputs": [
    {
     "name": "stdout",
     "output_type": "stream",
     "text": [
      "6\n"
     ]
    }
   ],
   "source": [
    "add = lambda a, b, c : a + b + c\n",
    "print( add(1,2,3) )"
   ]
  },
  {
   "cell_type": "code",
   "execution_count": 132,
   "id": "37b123d3-dd6e-4c2c-840e-1631b2ac40a3",
   "metadata": {},
   "outputs": [
    {
     "name": "stdout",
     "output_type": "stream",
     "text": [
      "Double of 11 : 22\n",
      "Triple of 11 : 33\n"
     ]
    }
   ],
   "source": [
    "def my_multiplier(n):\n",
    "  return lambda a : a * n\n",
    "\n",
    "my_doubler = my_multiplier(2)\n",
    "print(\"Double of 11 :\", my_doubler(11))\n",
    "\n",
    "my_tripler = my_multiplier(3)\n",
    "print(\"Triple of 11 :\", my_tripler(11))"
   ]
  },
  {
   "cell_type": "code",
   "execution_count": 133,
   "id": "3e9e0b44-c66b-4c9b-92da-f094ea71e75d",
   "metadata": {},
   "outputs": [],
   "source": [
    "# Math functions"
   ]
  },
  {
   "cell_type": "code",
   "execution_count": 135,
   "id": "569d5615-ec93-4453-818b-e7b6e11ed541",
   "metadata": {},
   "outputs": [
    {
     "name": "stdout",
     "output_type": "stream",
     "text": [
      "120\n"
     ]
    }
   ],
   "source": [
    "import math as m;\n",
    "fact = m.factorial(5)\n",
    "print(fact)"
   ]
  },
  {
   "cell_type": "code",
   "execution_count": 136,
   "id": "8f691090-6525-4a2c-97be-233dd73ebc24",
   "metadata": {},
   "outputs": [
    {
     "data": {
      "text/plain": [
       "1"
      ]
     },
     "execution_count": 136,
     "metadata": {},
     "output_type": "execute_result"
    }
   ],
   "source": [
    "m.floor(1.7)"
   ]
  },
  {
   "cell_type": "code",
   "execution_count": 139,
   "id": "cebb4f28-a14c-4fbc-91cf-4be46c2b46de",
   "metadata": {},
   "outputs": [
    {
     "data": {
      "text/plain": [
       "3"
      ]
     },
     "execution_count": 139,
     "metadata": {},
     "output_type": "execute_result"
    }
   ],
   "source": [
    "m.ceil(2.1)"
   ]
  },
  {
   "cell_type": "code",
   "execution_count": null,
   "id": "defc5bd3-8fd6-4453-a7cb-0787c576ddc5",
   "metadata": {},
   "outputs": [],
   "source": []
  }
 ],
 "metadata": {
  "kernelspec": {
   "display_name": "Python 3",
   "language": "python",
   "name": "python3"
  },
  "language_info": {
   "codemirror_mode": {
    "name": "ipython",
    "version": 3
   },
   "file_extension": ".py",
   "mimetype": "text/x-python",
   "name": "python",
   "nbconvert_exporter": "python",
   "pygments_lexer": "ipython3",
   "version": "3.8.11"
  }
 },
 "nbformat": 4,
 "nbformat_minor": 5
}
